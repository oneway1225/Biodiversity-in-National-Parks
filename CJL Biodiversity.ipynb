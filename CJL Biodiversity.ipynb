{
 "cells": [
  {
   "cell_type": "markdown",
   "metadata": {},
   "source": [
    "# Codecademy Portfolio Project - Biodiversity in National Parks"
   ]
  },
  {
   "cell_type": "markdown",
   "metadata": {},
   "source": [
    "## Project Goal:"
   ]
  },
  {
   "cell_type": "markdown",
   "metadata": {},
   "source": [
    "Gain insights on endangered species found in the US national parks, and use that insight to improve conservation methods."
   ]
  },
  {
   "cell_type": "markdown",
   "metadata": {},
   "source": [
    "## Initial Key Questions:"
   ]
  },
  {
   "cell_type": "markdown",
   "metadata": {},
   "source": [
    "- What is the distribution of conservation_status for animals?\n",
    "- Are certain types of species more likely to be endangered?\n",
    "- Are the differences between species and their conservation status significant?\n",
    "- Which species were spotted the most at each park?\n"
   ]
  },
  {
   "cell_type": "markdown",
   "metadata": {},
   "source": [
    "## 1. Import All Libraries"
   ]
  },
  {
   "cell_type": "code",
   "execution_count": 1,
   "metadata": {},
   "outputs": [],
   "source": [
    "## Pandas and Numpy\n",
    "import pandas as pd\n",
    "import numpy as np\n",
    "import math\n",
    "\n",
    "## Data Visualisation Modules\n",
    "import matplotlib.pyplot as plt\n",
    "import seaborn as sns\n",
    "import matplotlib.dates as mdates\n",
    "import matplotlib.ticker as mticker\n",
    "from matplotlib.colors import BoundaryNorm, ListedColormap, LogNorm\n",
    "\n",
    "## Warnings\n",
    "import warnings\n",
    "warnings.filterwarnings(\"ignore\")\n",
    "\n",
    "## Chi Contingency Test\n",
    "from scipy.stats import chi2_contingency"
   ]
  },
  {
   "cell_type": "markdown",
   "metadata": {},
   "source": [
    "## 2. Pre-Process the Data"
   ]
  },
  {
   "cell_type": "markdown",
   "metadata": {},
   "source": [
    "### 2.1 Load & Inspect the Data"
   ]
  },
  {
   "cell_type": "code",
   "execution_count": 2,
   "metadata": {},
   "outputs": [],
   "source": [
    "observations = pd.read_csv(\"observations.csv\") ## Load the csv file and save as a dataframe\n",
    "species = pd.read_csv(\"species_info.csv\")"
   ]
  },
  {
   "cell_type": "markdown",
   "metadata": {},
   "source": [
    "#### 2.1.1 Observations Data"
   ]
  },
  {
   "cell_type": "code",
   "execution_count": 3,
   "metadata": {},
   "outputs": [
    {
     "data": {
      "text/html": [
       "<div>\n",
       "<style scoped>\n",
       "    .dataframe tbody tr th:only-of-type {\n",
       "        vertical-align: middle;\n",
       "    }\n",
       "\n",
       "    .dataframe tbody tr th {\n",
       "        vertical-align: top;\n",
       "    }\n",
       "\n",
       "    .dataframe thead th {\n",
       "        text-align: right;\n",
       "    }\n",
       "</style>\n",
       "<table border=\"1\" class=\"dataframe\">\n",
       "  <thead>\n",
       "    <tr style=\"text-align: right;\">\n",
       "      <th></th>\n",
       "      <th>scientific_name</th>\n",
       "      <th>park_name</th>\n",
       "      <th>observations</th>\n",
       "    </tr>\n",
       "  </thead>\n",
       "  <tbody>\n",
       "    <tr>\n",
       "      <th>0</th>\n",
       "      <td>Vicia benghalensis</td>\n",
       "      <td>Great Smoky Mountains National Park</td>\n",
       "      <td>68</td>\n",
       "    </tr>\n",
       "    <tr>\n",
       "      <th>1</th>\n",
       "      <td>Neovison vison</td>\n",
       "      <td>Great Smoky Mountains National Park</td>\n",
       "      <td>77</td>\n",
       "    </tr>\n",
       "    <tr>\n",
       "      <th>2</th>\n",
       "      <td>Prunus subcordata</td>\n",
       "      <td>Yosemite National Park</td>\n",
       "      <td>138</td>\n",
       "    </tr>\n",
       "    <tr>\n",
       "      <th>3</th>\n",
       "      <td>Abutilon theophrasti</td>\n",
       "      <td>Bryce National Park</td>\n",
       "      <td>84</td>\n",
       "    </tr>\n",
       "    <tr>\n",
       "      <th>4</th>\n",
       "      <td>Githopsis specularioides</td>\n",
       "      <td>Great Smoky Mountains National Park</td>\n",
       "      <td>85</td>\n",
       "    </tr>\n",
       "  </tbody>\n",
       "</table>\n",
       "</div>"
      ],
      "text/plain": [
       "            scientific_name                            park_name  observations\n",
       "0        Vicia benghalensis  Great Smoky Mountains National Park            68\n",
       "1            Neovison vison  Great Smoky Mountains National Park            77\n",
       "2         Prunus subcordata               Yosemite National Park           138\n",
       "3      Abutilon theophrasti                  Bryce National Park            84\n",
       "4  Githopsis specularioides  Great Smoky Mountains National Park            85"
      ]
     },
     "execution_count": 3,
     "metadata": {},
     "output_type": "execute_result"
    }
   ],
   "source": [
    "observations.head()"
   ]
  },
  {
   "cell_type": "code",
   "execution_count": 4,
   "metadata": {},
   "outputs": [
    {
     "name": "stdout",
     "output_type": "stream",
     "text": [
      "<class 'pandas.core.frame.DataFrame'>\n",
      "RangeIndex: 23296 entries, 0 to 23295\n",
      "Data columns (total 3 columns):\n",
      " #   Column           Non-Null Count  Dtype \n",
      "---  ------           --------------  ----- \n",
      " 0   scientific_name  23296 non-null  object\n",
      " 1   park_name        23296 non-null  object\n",
      " 2   observations     23296 non-null  int64 \n",
      "dtypes: int64(1), object(2)\n",
      "memory usage: 546.1+ KB\n"
     ]
    }
   ],
   "source": [
    "observations.info()"
   ]
  },
  {
   "cell_type": "markdown",
   "metadata": {},
   "source": [
    "Analysis:\n",
    "- For the \"observations\" data, there are only 3 columns: \"scientific_name\", \"park_name\", and \"observations\".\n",
    "- There are 23296 non-null observations (rows) in the data.\n",
    "- \"scientific_name\" and \"park_name\" columns are in string format, and \"observations\" column is in integer."
   ]
  },
  {
   "cell_type": "code",
   "execution_count": 5,
   "metadata": {},
   "outputs": [
    {
     "data": {
      "text/plain": [
       "array(['Vicia benghalensis', 'Neovison vison', 'Prunus subcordata', ...,\n",
       "       'Ranunculus hebecarpus', 'Gulo gulo', 'Dichanthelium depauperatum'],\n",
       "      dtype=object)"
      ]
     },
     "execution_count": 5,
     "metadata": {},
     "output_type": "execute_result"
    }
   ],
   "source": [
    "observations.scientific_name.unique()"
   ]
  },
  {
   "cell_type": "code",
   "execution_count": 6,
   "metadata": {},
   "outputs": [
    {
     "data": {
      "text/plain": [
       "5541"
      ]
     },
     "execution_count": 6,
     "metadata": {},
     "output_type": "execute_result"
    }
   ],
   "source": [
    "observations.scientific_name.nunique()"
   ]
  },
  {
   "cell_type": "markdown",
   "metadata": {},
   "source": [
    "Analysis:\n",
    "- There are 5541 unique species, based on their unique scientific names."
   ]
  },
  {
   "cell_type": "code",
   "execution_count": 7,
   "metadata": {},
   "outputs": [
    {
     "data": {
      "text/plain": [
       "4"
      ]
     },
     "execution_count": 7,
     "metadata": {},
     "output_type": "execute_result"
    }
   ],
   "source": [
    "observations.park_name.nunique()"
   ]
  },
  {
   "cell_type": "code",
   "execution_count": 8,
   "metadata": {},
   "outputs": [
    {
     "data": {
      "text/plain": [
       "array(['Great Smoky Mountains National Park', 'Yosemite National Park',\n",
       "       'Bryce National Park', 'Yellowstone National Park'], dtype=object)"
      ]
     },
     "execution_count": 8,
     "metadata": {},
     "output_type": "execute_result"
    }
   ],
   "source": [
    "observations.park_name.unique()"
   ]
  },
  {
   "cell_type": "markdown",
   "metadata": {},
   "source": [
    "Analysis:\n",
    "- There are only 4 unique park names: \"Great Smoky Mountains National Park\", \"Yosemite National Park\", \"Bryce National Park\", and \"Yellowstone National Park\".\n",
    "- If each species were recorded without duplicates for each park, then we should have 22164 records, but we have 23296 records, meaning that some species were recorded more than once at each park."
   ]
  },
  {
   "cell_type": "code",
   "execution_count": 9,
   "metadata": {},
   "outputs": [
    {
     "data": {
      "text/plain": [
       "scientific_name    0\n",
       "park_name          0\n",
       "observations       0\n",
       "dtype: int64"
      ]
     },
     "execution_count": 9,
     "metadata": {},
     "output_type": "execute_result"
    }
   ],
   "source": [
    "observations.isnull().sum()"
   ]
  },
  {
   "cell_type": "markdown",
   "metadata": {},
   "source": [
    "Analysis:\n",
    "- There are no null values for observations data."
   ]
  },
  {
   "cell_type": "markdown",
   "metadata": {},
   "source": [
    "#### 2.1.2 Species Info Data"
   ]
  },
  {
   "cell_type": "code",
   "execution_count": 10,
   "metadata": {},
   "outputs": [
    {
     "data": {
      "text/html": [
       "<div>\n",
       "<style scoped>\n",
       "    .dataframe tbody tr th:only-of-type {\n",
       "        vertical-align: middle;\n",
       "    }\n",
       "\n",
       "    .dataframe tbody tr th {\n",
       "        vertical-align: top;\n",
       "    }\n",
       "\n",
       "    .dataframe thead th {\n",
       "        text-align: right;\n",
       "    }\n",
       "</style>\n",
       "<table border=\"1\" class=\"dataframe\">\n",
       "  <thead>\n",
       "    <tr style=\"text-align: right;\">\n",
       "      <th></th>\n",
       "      <th>category</th>\n",
       "      <th>scientific_name</th>\n",
       "      <th>common_names</th>\n",
       "      <th>conservation_status</th>\n",
       "    </tr>\n",
       "  </thead>\n",
       "  <tbody>\n",
       "    <tr>\n",
       "      <th>0</th>\n",
       "      <td>Mammal</td>\n",
       "      <td>Clethrionomys gapperi gapperi</td>\n",
       "      <td>Gapper's Red-Backed Vole</td>\n",
       "      <td>NaN</td>\n",
       "    </tr>\n",
       "    <tr>\n",
       "      <th>1</th>\n",
       "      <td>Mammal</td>\n",
       "      <td>Bos bison</td>\n",
       "      <td>American Bison, Bison</td>\n",
       "      <td>NaN</td>\n",
       "    </tr>\n",
       "    <tr>\n",
       "      <th>2</th>\n",
       "      <td>Mammal</td>\n",
       "      <td>Bos taurus</td>\n",
       "      <td>Aurochs, Aurochs, Domestic Cattle (Feral), Dom...</td>\n",
       "      <td>NaN</td>\n",
       "    </tr>\n",
       "    <tr>\n",
       "      <th>3</th>\n",
       "      <td>Mammal</td>\n",
       "      <td>Ovis aries</td>\n",
       "      <td>Domestic Sheep, Mouflon, Red Sheep, Sheep (Feral)</td>\n",
       "      <td>NaN</td>\n",
       "    </tr>\n",
       "    <tr>\n",
       "      <th>4</th>\n",
       "      <td>Mammal</td>\n",
       "      <td>Cervus elaphus</td>\n",
       "      <td>Wapiti Or Elk</td>\n",
       "      <td>NaN</td>\n",
       "    </tr>\n",
       "  </tbody>\n",
       "</table>\n",
       "</div>"
      ],
      "text/plain": [
       "  category                scientific_name  \\\n",
       "0   Mammal  Clethrionomys gapperi gapperi   \n",
       "1   Mammal                      Bos bison   \n",
       "2   Mammal                     Bos taurus   \n",
       "3   Mammal                     Ovis aries   \n",
       "4   Mammal                 Cervus elaphus   \n",
       "\n",
       "                                        common_names conservation_status  \n",
       "0                           Gapper's Red-Backed Vole                 NaN  \n",
       "1                              American Bison, Bison                 NaN  \n",
       "2  Aurochs, Aurochs, Domestic Cattle (Feral), Dom...                 NaN  \n",
       "3  Domestic Sheep, Mouflon, Red Sheep, Sheep (Feral)                 NaN  \n",
       "4                                      Wapiti Or Elk                 NaN  "
      ]
     },
     "execution_count": 10,
     "metadata": {},
     "output_type": "execute_result"
    }
   ],
   "source": [
    "species.head()"
   ]
  },
  {
   "cell_type": "code",
   "execution_count": 11,
   "metadata": {},
   "outputs": [
    {
     "name": "stdout",
     "output_type": "stream",
     "text": [
      "<class 'pandas.core.frame.DataFrame'>\n",
      "RangeIndex: 5824 entries, 0 to 5823\n",
      "Data columns (total 4 columns):\n",
      " #   Column               Non-Null Count  Dtype \n",
      "---  ------               --------------  ----- \n",
      " 0   category             5824 non-null   object\n",
      " 1   scientific_name      5824 non-null   object\n",
      " 2   common_names         5824 non-null   object\n",
      " 3   conservation_status  191 non-null    object\n",
      "dtypes: object(4)\n",
      "memory usage: 182.1+ KB\n"
     ]
    }
   ],
   "source": [
    "species.info()"
   ]
  },
  {
   "cell_type": "code",
   "execution_count": 12,
   "metadata": {},
   "outputs": [
    {
     "data": {
      "text/plain": [
       "(5824, 4)"
      ]
     },
     "execution_count": 12,
     "metadata": {},
     "output_type": "execute_result"
    }
   ],
   "source": [
    "species.shape"
   ]
  },
  {
   "cell_type": "code",
   "execution_count": 13,
   "metadata": {},
   "outputs": [
    {
     "data": {
      "text/plain": [
       "96.72"
      ]
     },
     "execution_count": 13,
     "metadata": {},
     "output_type": "execute_result"
    }
   ],
   "source": [
    "count = species.conservation_status.shape[0]\n",
    "null_pct = (1-species.conservation_status.count()/count) * 100\n",
    "round(null_pct, 2)"
   ]
  },
  {
   "cell_type": "markdown",
   "metadata": {},
   "source": [
    "Analysis:\n",
    "- There are 4 columns in species data: \"category\", \"scientific_name\", \"common_names\" and \"conservation_staus\".\n",
    "- There are 5824 rows in total.\n",
    "- The conservation status columns contain a significant number of null values (96.72%). It might be better to drop this column entirely, unless there is a good method to impute or interpolate the missing values.\n",
    "- \"Common names\" is a string that includes multiple names separated by a comma or the word \"or\".\n"
   ]
  },
  {
   "cell_type": "code",
   "execution_count": 14,
   "metadata": {},
   "outputs": [
    {
     "name": "stdout",
     "output_type": "stream",
     "text": [
      "\n",
      "The number of unique values in category columns: 7\n",
      "The unique values are: ['Mammal' 'Bird' 'Reptile' 'Amphibian' 'Fish' 'Vascular Plant'\n",
      " 'Nonvascular Plant']\n",
      "\n",
      "\n",
      "The number of unique values in scientific_name columns: 5541\n",
      "\n",
      "The number of unique values in common_names columns: 5504\n",
      "\n",
      "The number of unique values in conservation_status columns: 4\n",
      "The unique values are: [nan 'Species of Concern' 'Endangered' 'Threatened' 'In Recovery']\n",
      "\n"
     ]
    }
   ],
   "source": [
    "columns = species.columns\n",
    "\n",
    "for column in columns:\n",
    "    print(f\"\\nThe number of unique values in {column} columns: {species[column].nunique()}\")\n",
    "    if species[column].nunique() <= 10:\n",
    "        print(f\"The unique values are: {species[column].unique()}\\n\")\n"
   ]
  },
  {
   "cell_type": "markdown",
   "metadata": {},
   "source": [
    "Analysis:\n",
    "- There are 7 unique categories: \"Mammal\", \"Bird\", \"Reptile\", \"Amphibian\", \"Fish\", \"Vascular Plant\", and \"Nonvascular Plant\".\n",
    "- The number of unique scientific names in the species data matches the number in the observations data.\n",
    "- However, we expected to see the number of unique species match the number of total rows in the species data. This means that some species have extra observations in the data (duplicate).\n",
    "- The number of unique common names also don't match the scientific names, indicating that a common name may have multiple scientific names.\n",
    "- The conservation status is divided into four groups: \"Species of Concern\", \"Endangered\", \"Threatened\", and \"In Recovery\". The remaining values are null. The null values likely indicate that the species in question is not in danger or threatened. We could replace the null value as simply \"Safe\" or similar term."
   ]
  },
  {
   "cell_type": "markdown",
   "metadata": {},
   "source": [
    "### 2.2 Data Cleaning"
   ]
  },
  {
   "cell_type": "markdown",
   "metadata": {},
   "source": [
    "#### 2.2.1 Conservation Status"
   ]
  },
  {
   "cell_type": "markdown",
   "metadata": {},
   "source": [
    "The term for non-endangered species is \"least-concern species\". We will therefore replace null values with \"Least-concern\""
   ]
  },
  {
   "cell_type": "code",
   "execution_count": 15,
   "metadata": {},
   "outputs": [],
   "source": [
    "species.conservation_status = species[\"conservation_status\"].fillna('Least-concern')"
   ]
  },
  {
   "cell_type": "code",
   "execution_count": 16,
   "metadata": {},
   "outputs": [
    {
     "data": {
      "text/plain": [
       "array(['Least-concern', 'Species of Concern', 'Endangered', 'Threatened',\n",
       "       'In Recovery'], dtype=object)"
      ]
     },
     "execution_count": 16,
     "metadata": {},
     "output_type": "execute_result"
    }
   ],
   "source": [
    "species.conservation_status.unique()"
   ]
  },
  {
   "cell_type": "markdown",
   "metadata": {},
   "source": [
    "#### 2.2.2 Duplicates"
   ]
  },
  {
   "cell_type": "code",
   "execution_count": 17,
   "metadata": {},
   "outputs": [],
   "source": [
    "duplicates = species.scientific_name[species.duplicated(subset=['scientific_name']) == True]"
   ]
  },
  {
   "cell_type": "code",
   "execution_count": 18,
   "metadata": {},
   "outputs": [
    {
     "data": {
      "text/plain": [
       "(283,)"
      ]
     },
     "execution_count": 18,
     "metadata": {},
     "output_type": "execute_result"
    }
   ],
   "source": [
    "duplicates.shape"
   ]
  },
  {
   "cell_type": "markdown",
   "metadata": {},
   "source": [
    "There are 283 duplicates."
   ]
  },
  {
   "cell_type": "code",
   "execution_count": 19,
   "metadata": {},
   "outputs": [
    {
     "data": {
      "text/plain": [
       "3017                      Cervus elaphus\n",
       "3019              Odocoileus virginianus\n",
       "3020                         Canis lupus\n",
       "3022                       Puma concolor\n",
       "3025                    Lutra canadensis\n",
       "                      ...               \n",
       "5619    Panicum rigidulum var. rigidulum\n",
       "5638                      Setaria pumila\n",
       "5640                    Vulpia bromoides\n",
       "5643                       Vulpia myuros\n",
       "5750                     Rosa eglanteria\n",
       "Name: scientific_name, Length: 283, dtype: object"
      ]
     },
     "execution_count": 19,
     "metadata": {},
     "output_type": "execute_result"
    }
   ],
   "source": [
    "duplicates"
   ]
  },
  {
   "cell_type": "code",
   "execution_count": 20,
   "metadata": {},
   "outputs": [
    {
     "data": {
      "text/html": [
       "<div>\n",
       "<style scoped>\n",
       "    .dataframe tbody tr th:only-of-type {\n",
       "        vertical-align: middle;\n",
       "    }\n",
       "\n",
       "    .dataframe tbody tr th {\n",
       "        vertical-align: top;\n",
       "    }\n",
       "\n",
       "    .dataframe thead th {\n",
       "        text-align: right;\n",
       "    }\n",
       "</style>\n",
       "<table border=\"1\" class=\"dataframe\">\n",
       "  <thead>\n",
       "    <tr style=\"text-align: right;\">\n",
       "      <th></th>\n",
       "      <th>category</th>\n",
       "      <th>scientific_name</th>\n",
       "      <th>common_names</th>\n",
       "      <th>conservation_status</th>\n",
       "    </tr>\n",
       "  </thead>\n",
       "  <tbody>\n",
       "    <tr>\n",
       "      <th>4</th>\n",
       "      <td>Mammal</td>\n",
       "      <td>Cervus elaphus</td>\n",
       "      <td>Wapiti Or Elk</td>\n",
       "      <td>Least-concern</td>\n",
       "    </tr>\n",
       "    <tr>\n",
       "      <th>3017</th>\n",
       "      <td>Mammal</td>\n",
       "      <td>Cervus elaphus</td>\n",
       "      <td>Rocky Mountain Elk</td>\n",
       "      <td>Least-concern</td>\n",
       "    </tr>\n",
       "  </tbody>\n",
       "</table>\n",
       "</div>"
      ],
      "text/plain": [
       "     category scientific_name        common_names conservation_status\n",
       "4      Mammal  Cervus elaphus       Wapiti Or Elk       Least-concern\n",
       "3017   Mammal  Cervus elaphus  Rocky Mountain Elk       Least-concern"
      ]
     },
     "execution_count": 20,
     "metadata": {},
     "output_type": "execute_result"
    }
   ],
   "source": [
    "species[species.scientific_name == \"Cervus elaphus\"]"
   ]
  },
  {
   "cell_type": "code",
   "execution_count": 21,
   "metadata": {},
   "outputs": [
    {
     "data": {
      "text/html": [
       "<div>\n",
       "<style scoped>\n",
       "    .dataframe tbody tr th:only-of-type {\n",
       "        vertical-align: middle;\n",
       "    }\n",
       "\n",
       "    .dataframe tbody tr th {\n",
       "        vertical-align: top;\n",
       "    }\n",
       "\n",
       "    .dataframe thead th {\n",
       "        text-align: right;\n",
       "    }\n",
       "</style>\n",
       "<table border=\"1\" class=\"dataframe\">\n",
       "  <thead>\n",
       "    <tr style=\"text-align: right;\">\n",
       "      <th></th>\n",
       "      <th>category</th>\n",
       "      <th>scientific_name</th>\n",
       "      <th>common_names</th>\n",
       "      <th>conservation_status</th>\n",
       "    </tr>\n",
       "  </thead>\n",
       "  <tbody>\n",
       "    <tr>\n",
       "      <th>5</th>\n",
       "      <td>Mammal</td>\n",
       "      <td>Odocoileus virginianus</td>\n",
       "      <td>White-Tailed Deer</td>\n",
       "      <td>Least-concern</td>\n",
       "    </tr>\n",
       "    <tr>\n",
       "      <th>3019</th>\n",
       "      <td>Mammal</td>\n",
       "      <td>Odocoileus virginianus</td>\n",
       "      <td>White-Tailed Deer, White-Tailed Deer</td>\n",
       "      <td>Least-concern</td>\n",
       "    </tr>\n",
       "  </tbody>\n",
       "</table>\n",
       "</div>"
      ],
      "text/plain": [
       "     category         scientific_name                          common_names  \\\n",
       "5      Mammal  Odocoileus virginianus                     White-Tailed Deer   \n",
       "3019   Mammal  Odocoileus virginianus  White-Tailed Deer, White-Tailed Deer   \n",
       "\n",
       "     conservation_status  \n",
       "5          Least-concern  \n",
       "3019       Least-concern  "
      ]
     },
     "execution_count": 21,
     "metadata": {},
     "output_type": "execute_result"
    }
   ],
   "source": [
    "species[species.scientific_name == \"Odocoileus virginianus\"]"
   ]
  },
  {
   "cell_type": "code",
   "execution_count": 22,
   "metadata": {
    "scrolled": true
   },
   "outputs": [
    {
     "name": "stdout",
     "output_type": "stream",
     "text": [
      "     scientific_name        common_names\n",
      "4     Cervus elaphus       Wapiti Or Elk\n",
      "3017  Cervus elaphus  Rocky Mountain Elk\n",
      "\n",
      "\n",
      "             scientific_name                          common_names\n",
      "5     Odocoileus virginianus                     White-Tailed Deer\n",
      "3019  Odocoileus virginianus  White-Tailed Deer, White-Tailed Deer\n",
      "\n",
      "\n",
      "     scientific_name     common_names\n",
      "8        Canis lupus        Gray Wolf\n",
      "3020     Canis lupus  Gray Wolf, Wolf\n",
      "4448     Canis lupus  Gray Wolf, Wolf\n",
      "\n",
      "\n",
      "     scientific_name                 common_names\n",
      "16     Puma concolor      Panther (Mountain Lion)\n",
      "3022   Puma concolor  Cougar, Mountain Lion, Puma\n",
      "4451   Puma concolor                Mountain Lion\n",
      "\n",
      "\n",
      "       scientific_name          common_names\n",
      "20    Lutra canadensis  Northern River Otter\n",
      "3025  Lutra canadensis           River Otter\n",
      "\n",
      "\n",
      "     scientific_name         common_names\n",
      "25     Mustela vison                 Mink\n",
      "3028   Mustela vison  American Mink, Mink\n",
      "\n",
      "\n",
      "     scientific_name                               common_names\n",
      "26     Procyon lotor                    Common Raccoon, Raccoon\n",
      "3030   Procyon lotor  Common Raccoon, Northern Raccoon, Raccoon\n",
      "4459   Procyon lotor                                    Raccoon\n",
      "\n",
      "\n",
      "       scientific_name                     common_names\n",
      "27    Ursus americanus                       Black Bear\n",
      "3031  Ursus americanus  American Black Bear, Black Bear\n",
      "\n",
      "\n",
      "       scientific_name                  common_names\n",
      "29    Eptesicus fuscus                 Big Brown Bat\n",
      "3035  Eptesicus fuscus  Big Brown Bat, Big Brown Bat\n",
      "\n",
      "\n",
      "                scientific_name                          common_names\n",
      "30    Lasionycteris noctivagans                     Silver-Haired Bat\n",
      "3037  Lasionycteris noctivagans  Silver-Haired Bat, Silver-Haired Bat\n",
      "\n",
      "\n"
     ]
    }
   ],
   "source": [
    "for dup in duplicates[0:10]:\n",
    "    print(species[[\"scientific_name\", \"common_names\"]][species.scientific_name == dup])\n",
    "    print(f\"\\n\")"
   ]
  },
  {
   "cell_type": "markdown",
   "metadata": {},
   "source": [
    "Analysis:\n",
    "- After observing the duplicate data, it is confirmed that these are indeed duplicates. The common names column contains duplicate information that can be safely removed from the data without the risk of losing any information."
   ]
  },
  {
   "cell_type": "code",
   "execution_count": 23,
   "metadata": {},
   "outputs": [
    {
     "name": "stdout",
     "output_type": "stream",
     "text": [
      "Canis lupus\n",
      "Oncorhynchus mykiss\n",
      "Canis lupus\n"
     ]
    }
   ],
   "source": [
    "for dup in duplicates:\n",
    "    inc_cs = []\n",
    "    value = species[[\"conservation_status\"]].loc[species.scientific_name == dup]\n",
    "    status = list(value.conservation_status.values)\n",
    "    if len(set(status)) > 1:\n",
    "        print(dup)\n"
   ]
  },
  {
   "cell_type": "code",
   "execution_count": 24,
   "metadata": {},
   "outputs": [
    {
     "data": {
      "text/html": [
       "<div>\n",
       "<style scoped>\n",
       "    .dataframe tbody tr th:only-of-type {\n",
       "        vertical-align: middle;\n",
       "    }\n",
       "\n",
       "    .dataframe tbody tr th {\n",
       "        vertical-align: top;\n",
       "    }\n",
       "\n",
       "    .dataframe thead th {\n",
       "        text-align: right;\n",
       "    }\n",
       "</style>\n",
       "<table border=\"1\" class=\"dataframe\">\n",
       "  <thead>\n",
       "    <tr style=\"text-align: right;\">\n",
       "      <th></th>\n",
       "      <th>category</th>\n",
       "      <th>scientific_name</th>\n",
       "      <th>common_names</th>\n",
       "      <th>conservation_status</th>\n",
       "    </tr>\n",
       "  </thead>\n",
       "  <tbody>\n",
       "    <tr>\n",
       "      <th>8</th>\n",
       "      <td>Mammal</td>\n",
       "      <td>Canis lupus</td>\n",
       "      <td>Gray Wolf</td>\n",
       "      <td>Endangered</td>\n",
       "    </tr>\n",
       "    <tr>\n",
       "      <th>3020</th>\n",
       "      <td>Mammal</td>\n",
       "      <td>Canis lupus</td>\n",
       "      <td>Gray Wolf, Wolf</td>\n",
       "      <td>In Recovery</td>\n",
       "    </tr>\n",
       "    <tr>\n",
       "      <th>4448</th>\n",
       "      <td>Mammal</td>\n",
       "      <td>Canis lupus</td>\n",
       "      <td>Gray Wolf, Wolf</td>\n",
       "      <td>Endangered</td>\n",
       "    </tr>\n",
       "  </tbody>\n",
       "</table>\n",
       "</div>"
      ],
      "text/plain": [
       "     category scientific_name     common_names conservation_status\n",
       "8      Mammal     Canis lupus        Gray Wolf          Endangered\n",
       "3020   Mammal     Canis lupus  Gray Wolf, Wolf         In Recovery\n",
       "4448   Mammal     Canis lupus  Gray Wolf, Wolf          Endangered"
      ]
     },
     "execution_count": 24,
     "metadata": {},
     "output_type": "execute_result"
    }
   ],
   "source": [
    "species[species.scientific_name == \"Canis lupus\"]"
   ]
  },
  {
   "cell_type": "markdown",
   "metadata": {},
   "source": [
    "According to US Fish & Wildlife Service: <br><br>\n",
    "Gray wolves were originally listed under the Endangered Species Act as subspecies or as regional populations of subspecies in the contiguous United States and Mexico. In 1978, we reclassified the gray wolf as endangered at the species level (C. lupus) throughout the contiguous United States and Mexico, except for gray wolves in Minnesota which were classified as threatened. The Northern Rocky Mountains population was delisted due to recovery in 2011, except for Wyoming which was delisted in 2017. Remaining wolf populations in the contiguous United States were delisted due to recovery in 2021.\n",
    "\n",
    "<br>\n",
    "<br>\n",
    "- We will repalce the status for gray wolf to \"In Recovery\"."
   ]
  },
  {
   "cell_type": "code",
   "execution_count": 25,
   "metadata": {},
   "outputs": [],
   "source": [
    "species.conservation_status[species.scientific_name == \"Canis lupus\"] = species.conservation_status.replace({\"Endangered\": \"In Recovery\"})"
   ]
  },
  {
   "cell_type": "code",
   "execution_count": 26,
   "metadata": {},
   "outputs": [
    {
     "data": {
      "text/html": [
       "<div>\n",
       "<style scoped>\n",
       "    .dataframe tbody tr th:only-of-type {\n",
       "        vertical-align: middle;\n",
       "    }\n",
       "\n",
       "    .dataframe tbody tr th {\n",
       "        vertical-align: top;\n",
       "    }\n",
       "\n",
       "    .dataframe thead th {\n",
       "        text-align: right;\n",
       "    }\n",
       "</style>\n",
       "<table border=\"1\" class=\"dataframe\">\n",
       "  <thead>\n",
       "    <tr style=\"text-align: right;\">\n",
       "      <th></th>\n",
       "      <th>category</th>\n",
       "      <th>scientific_name</th>\n",
       "      <th>common_names</th>\n",
       "      <th>conservation_status</th>\n",
       "    </tr>\n",
       "  </thead>\n",
       "  <tbody>\n",
       "    <tr>\n",
       "      <th>8</th>\n",
       "      <td>Mammal</td>\n",
       "      <td>Canis lupus</td>\n",
       "      <td>Gray Wolf</td>\n",
       "      <td>In Recovery</td>\n",
       "    </tr>\n",
       "    <tr>\n",
       "      <th>3020</th>\n",
       "      <td>Mammal</td>\n",
       "      <td>Canis lupus</td>\n",
       "      <td>Gray Wolf, Wolf</td>\n",
       "      <td>In Recovery</td>\n",
       "    </tr>\n",
       "    <tr>\n",
       "      <th>4448</th>\n",
       "      <td>Mammal</td>\n",
       "      <td>Canis lupus</td>\n",
       "      <td>Gray Wolf, Wolf</td>\n",
       "      <td>In Recovery</td>\n",
       "    </tr>\n",
       "  </tbody>\n",
       "</table>\n",
       "</div>"
      ],
      "text/plain": [
       "     category scientific_name     common_names conservation_status\n",
       "8      Mammal     Canis lupus        Gray Wolf         In Recovery\n",
       "3020   Mammal     Canis lupus  Gray Wolf, Wolf         In Recovery\n",
       "4448   Mammal     Canis lupus  Gray Wolf, Wolf         In Recovery"
      ]
     },
     "execution_count": 26,
     "metadata": {},
     "output_type": "execute_result"
    }
   ],
   "source": [
    "species[species.scientific_name == \"Canis lupus\"]"
   ]
  },
  {
   "cell_type": "code",
   "execution_count": 27,
   "metadata": {},
   "outputs": [
    {
     "data": {
      "text/html": [
       "<div>\n",
       "<style scoped>\n",
       "    .dataframe tbody tr th:only-of-type {\n",
       "        vertical-align: middle;\n",
       "    }\n",
       "\n",
       "    .dataframe tbody tr th {\n",
       "        vertical-align: top;\n",
       "    }\n",
       "\n",
       "    .dataframe thead th {\n",
       "        text-align: right;\n",
       "    }\n",
       "</style>\n",
       "<table border=\"1\" class=\"dataframe\">\n",
       "  <thead>\n",
       "    <tr style=\"text-align: right;\">\n",
       "      <th></th>\n",
       "      <th>category</th>\n",
       "      <th>scientific_name</th>\n",
       "      <th>common_names</th>\n",
       "      <th>conservation_status</th>\n",
       "    </tr>\n",
       "  </thead>\n",
       "  <tbody>\n",
       "    <tr>\n",
       "      <th>560</th>\n",
       "      <td>Fish</td>\n",
       "      <td>Oncorhynchus mykiss</td>\n",
       "      <td>Rainbow Trout</td>\n",
       "      <td>Least-concern</td>\n",
       "    </tr>\n",
       "    <tr>\n",
       "      <th>3283</th>\n",
       "      <td>Fish</td>\n",
       "      <td>Oncorhynchus mykiss</td>\n",
       "      <td>Rainbow Trout</td>\n",
       "      <td>Threatened</td>\n",
       "    </tr>\n",
       "  </tbody>\n",
       "</table>\n",
       "</div>"
      ],
      "text/plain": [
       "     category      scientific_name   common_names conservation_status\n",
       "560      Fish  Oncorhynchus mykiss  Rainbow Trout       Least-concern\n",
       "3283     Fish  Oncorhynchus mykiss  Rainbow Trout          Threatened"
      ]
     },
     "execution_count": 27,
     "metadata": {},
     "output_type": "execute_result"
    }
   ],
   "source": [
    "species[species.scientific_name == \"Oncorhynchus mykiss\"]"
   ]
  },
  {
   "cell_type": "markdown",
   "metadata": {},
   "source": [
    "Analysis:\n",
    "- According to Wikipedia, _Some local populations of specific subspecies, or in the case of steelhead, distinct population segments, are listed as either threatened or endangered under the Endangered Species Act._\n",
    "- We will replace the conservation status for this rainbow trout to \"Threatened\"."
   ]
  },
  {
   "cell_type": "code",
   "execution_count": 28,
   "metadata": {},
   "outputs": [],
   "source": [
    "species.conservation_status[species.scientific_name == \"Oncorhynchus mykiss\"] = species.conservation_status.replace({\"Least-concern\": \"Threatened\"})"
   ]
  },
  {
   "cell_type": "code",
   "execution_count": 29,
   "metadata": {},
   "outputs": [],
   "source": [
    "# dropping duplicate values and keeping only the first\n",
    "species.drop_duplicates(subset=\"scientific_name\",\n",
    "                        keep=\"first\", inplace=True)"
   ]
  },
  {
   "cell_type": "code",
   "execution_count": 30,
   "metadata": {},
   "outputs": [
    {
     "data": {
      "text/plain": [
       "(5541, 4)"
      ]
     },
     "execution_count": 30,
     "metadata": {},
     "output_type": "execute_result"
    }
   ],
   "source": [
    "species.shape"
   ]
  },
  {
   "cell_type": "markdown",
   "metadata": {},
   "source": [
    "The number of species in the species data now matches the number of species in the observation data."
   ]
  },
  {
   "cell_type": "code",
   "execution_count": 31,
   "metadata": {},
   "outputs": [],
   "source": [
    "species.reset_index(inplace=True, drop=True)"
   ]
  },
  {
   "cell_type": "markdown",
   "metadata": {},
   "source": [
    "#### 2.2.3 Keep Only One Common Name for Each Species"
   ]
  },
  {
   "cell_type": "code",
   "execution_count": 32,
   "metadata": {},
   "outputs": [
    {
     "data": {
      "text/plain": [
       "0                                Gapper's Red-Backed Vole\n",
       "1                                   American Bison, Bison\n",
       "2       Aurochs, Aurochs, Domestic Cattle (Feral), Dom...\n",
       "3       Domestic Sheep, Mouflon, Red Sheep, Sheep (Feral)\n",
       "4                                           Wapiti Or Elk\n",
       "                              ...                        \n",
       "5536                                  Parish's Nightshade\n",
       "5537              Chaparral Nightshade, Purple Nightshade\n",
       "5538          Thicket Creeper, Virginia Creeper, Woodbine\n",
       "5539              California Grape, California Wild Grape\n",
       "5540    Bullhead, Caltrop, Goathead, Mexican Sandbur, ...\n",
       "Name: common_names, Length: 5541, dtype: object"
      ]
     },
     "execution_count": 32,
     "metadata": {},
     "output_type": "execute_result"
    }
   ],
   "source": [
    "species.common_names"
   ]
  },
  {
   "cell_type": "markdown",
   "metadata": {},
   "source": [
    "Here, we will pick the first common name, and discard the rest. The delimiters are \",\" and \"Or\""
   ]
  },
  {
   "cell_type": "code",
   "execution_count": 33,
   "metadata": {},
   "outputs": [
    {
     "data": {
      "text/html": [
       "<div>\n",
       "<style scoped>\n",
       "    .dataframe tbody tr th:only-of-type {\n",
       "        vertical-align: middle;\n",
       "    }\n",
       "\n",
       "    .dataframe tbody tr th {\n",
       "        vertical-align: top;\n",
       "    }\n",
       "\n",
       "    .dataframe thead th {\n",
       "        text-align: right;\n",
       "    }\n",
       "</style>\n",
       "<table border=\"1\" class=\"dataframe\">\n",
       "  <thead>\n",
       "    <tr style=\"text-align: right;\">\n",
       "      <th></th>\n",
       "      <th>category</th>\n",
       "      <th>scientific_name</th>\n",
       "      <th>common_names</th>\n",
       "      <th>conservation_status</th>\n",
       "    </tr>\n",
       "  </thead>\n",
       "  <tbody>\n",
       "    <tr>\n",
       "      <th>2295</th>\n",
       "      <td>Vascular Plant</td>\n",
       "      <td>Poa saltuensis</td>\n",
       "      <td>A Bluegrass, Bluegrass</td>\n",
       "      <td>Least-concern</td>\n",
       "    </tr>\n",
       "    <tr>\n",
       "      <th>2549</th>\n",
       "      <td>Vascular Plant</td>\n",
       "      <td>Rubus occidentalis</td>\n",
       "      <td>A Bramble, Black Raspberry</td>\n",
       "      <td>Least-concern</td>\n",
       "    </tr>\n",
       "    <tr>\n",
       "      <th>2541</th>\n",
       "      <td>Vascular Plant</td>\n",
       "      <td>Rubus alumnus</td>\n",
       "      <td>A Bramble, Blackberry</td>\n",
       "      <td>Least-concern</td>\n",
       "    </tr>\n",
       "    <tr>\n",
       "      <th>2542</th>\n",
       "      <td>Vascular Plant</td>\n",
       "      <td>Rubus argutus</td>\n",
       "      <td>A Bramble, Highbush Blackberry</td>\n",
       "      <td>Least-concern</td>\n",
       "    </tr>\n",
       "    <tr>\n",
       "      <th>2554</th>\n",
       "      <td>Vascular Plant</td>\n",
       "      <td>Rubus trux</td>\n",
       "      <td>A Bramble, Truculent Blackberry</td>\n",
       "      <td>Least-concern</td>\n",
       "    </tr>\n",
       "    <tr>\n",
       "      <th>...</th>\n",
       "      <td>...</td>\n",
       "      <td>...</td>\n",
       "      <td>...</td>\n",
       "      <td>...</td>\n",
       "    </tr>\n",
       "    <tr>\n",
       "      <th>3033</th>\n",
       "      <td>Mammal</td>\n",
       "      <td>Myotis yumanensis</td>\n",
       "      <td>Yuma Myotis, Yuma Myotis</td>\n",
       "      <td>Species of Concern</td>\n",
       "    </tr>\n",
       "    <tr>\n",
       "      <th>5405</th>\n",
       "      <td>Vascular Plant</td>\n",
       "      <td>Delphinium patens ssp. patens</td>\n",
       "      <td>Zigzag Larkspur</td>\n",
       "      <td>Least-concern</td>\n",
       "    </tr>\n",
       "    <tr>\n",
       "      <th>1161</th>\n",
       "      <td>Vascular Plant</td>\n",
       "      <td>Tradescantia subaspera</td>\n",
       "      <td>Zigzag Spiderwort</td>\n",
       "      <td>Least-concern</td>\n",
       "    </tr>\n",
       "    <tr>\n",
       "      <th>2957</th>\n",
       "      <td>Nonvascular Plant</td>\n",
       "      <td>Zygodon viridissimus var. rupestris</td>\n",
       "      <td>Zygodon Moss</td>\n",
       "      <td>Least-concern</td>\n",
       "    </tr>\n",
       "    <tr>\n",
       "      <th>2956</th>\n",
       "      <td>Nonvascular Plant</td>\n",
       "      <td>Zygodon viridissimus</td>\n",
       "      <td>Zygodon Moss</td>\n",
       "      <td>Least-concern</td>\n",
       "    </tr>\n",
       "  </tbody>\n",
       "</table>\n",
       "<p>5541 rows × 4 columns</p>\n",
       "</div>"
      ],
      "text/plain": [
       "               category                      scientific_name  \\\n",
       "2295     Vascular Plant                       Poa saltuensis   \n",
       "2549     Vascular Plant                   Rubus occidentalis   \n",
       "2541     Vascular Plant                        Rubus alumnus   \n",
       "2542     Vascular Plant                        Rubus argutus   \n",
       "2554     Vascular Plant                           Rubus trux   \n",
       "...                 ...                                  ...   \n",
       "3033             Mammal                    Myotis yumanensis   \n",
       "5405     Vascular Plant        Delphinium patens ssp. patens   \n",
       "1161     Vascular Plant               Tradescantia subaspera   \n",
       "2957  Nonvascular Plant  Zygodon viridissimus var. rupestris   \n",
       "2956  Nonvascular Plant                 Zygodon viridissimus   \n",
       "\n",
       "                         common_names conservation_status  \n",
       "2295           A Bluegrass, Bluegrass       Least-concern  \n",
       "2549       A Bramble, Black Raspberry       Least-concern  \n",
       "2541            A Bramble, Blackberry       Least-concern  \n",
       "2542   A Bramble, Highbush Blackberry       Least-concern  \n",
       "2554  A Bramble, Truculent Blackberry       Least-concern  \n",
       "...                               ...                 ...  \n",
       "3033         Yuma Myotis, Yuma Myotis  Species of Concern  \n",
       "5405                  Zigzag Larkspur       Least-concern  \n",
       "1161                Zigzag Spiderwort       Least-concern  \n",
       "2957                     Zygodon Moss       Least-concern  \n",
       "2956                     Zygodon Moss       Least-concern  \n",
       "\n",
       "[5541 rows x 4 columns]"
      ]
     },
     "execution_count": 33,
     "metadata": {},
     "output_type": "execute_result"
    }
   ],
   "source": [
    "species.sort_values(by=\"common_names\")"
   ]
  },
  {
   "cell_type": "code",
   "execution_count": 34,
   "metadata": {},
   "outputs": [],
   "source": [
    "temp = species.copy()\n",
    "temp = temp[\"common_names\"].str.rsplit(\",\", 10, expand=True) "
   ]
  },
  {
   "cell_type": "code",
   "execution_count": 35,
   "metadata": {},
   "outputs": [],
   "source": [
    "temp = temp[0].str.rsplit(\" Or \", 1, expand=True) "
   ]
  },
  {
   "cell_type": "code",
   "execution_count": 36,
   "metadata": {},
   "outputs": [],
   "source": [
    "species[\"common_names\"] = temp[0]"
   ]
  },
  {
   "cell_type": "code",
   "execution_count": 37,
   "metadata": {},
   "outputs": [
    {
     "data": {
      "text/html": [
       "<div>\n",
       "<style scoped>\n",
       "    .dataframe tbody tr th:only-of-type {\n",
       "        vertical-align: middle;\n",
       "    }\n",
       "\n",
       "    .dataframe tbody tr th {\n",
       "        vertical-align: top;\n",
       "    }\n",
       "\n",
       "    .dataframe thead th {\n",
       "        text-align: right;\n",
       "    }\n",
       "</style>\n",
       "<table border=\"1\" class=\"dataframe\">\n",
       "  <thead>\n",
       "    <tr style=\"text-align: right;\">\n",
       "      <th></th>\n",
       "      <th>category</th>\n",
       "      <th>scientific_name</th>\n",
       "      <th>common_names</th>\n",
       "      <th>conservation_status</th>\n",
       "    </tr>\n",
       "  </thead>\n",
       "  <tbody>\n",
       "    <tr>\n",
       "      <th>2295</th>\n",
       "      <td>Vascular Plant</td>\n",
       "      <td>Poa saltuensis</td>\n",
       "      <td>A Bluegrass</td>\n",
       "      <td>Least-concern</td>\n",
       "    </tr>\n",
       "    <tr>\n",
       "      <th>2541</th>\n",
       "      <td>Vascular Plant</td>\n",
       "      <td>Rubus alumnus</td>\n",
       "      <td>A Bramble</td>\n",
       "      <td>Least-concern</td>\n",
       "    </tr>\n",
       "    <tr>\n",
       "      <th>2542</th>\n",
       "      <td>Vascular Plant</td>\n",
       "      <td>Rubus argutus</td>\n",
       "      <td>A Bramble</td>\n",
       "      <td>Least-concern</td>\n",
       "    </tr>\n",
       "    <tr>\n",
       "      <th>2549</th>\n",
       "      <td>Vascular Plant</td>\n",
       "      <td>Rubus occidentalis</td>\n",
       "      <td>A Bramble</td>\n",
       "      <td>Least-concern</td>\n",
       "    </tr>\n",
       "    <tr>\n",
       "      <th>2554</th>\n",
       "      <td>Vascular Plant</td>\n",
       "      <td>Rubus trux</td>\n",
       "      <td>A Bramble</td>\n",
       "      <td>Least-concern</td>\n",
       "    </tr>\n",
       "    <tr>\n",
       "      <th>...</th>\n",
       "      <td>...</td>\n",
       "      <td>...</td>\n",
       "      <td>...</td>\n",
       "      <td>...</td>\n",
       "    </tr>\n",
       "    <tr>\n",
       "      <th>3033</th>\n",
       "      <td>Mammal</td>\n",
       "      <td>Myotis yumanensis</td>\n",
       "      <td>Yuma Myotis</td>\n",
       "      <td>Species of Concern</td>\n",
       "    </tr>\n",
       "    <tr>\n",
       "      <th>5405</th>\n",
       "      <td>Vascular Plant</td>\n",
       "      <td>Delphinium patens ssp. patens</td>\n",
       "      <td>Zigzag Larkspur</td>\n",
       "      <td>Least-concern</td>\n",
       "    </tr>\n",
       "    <tr>\n",
       "      <th>1161</th>\n",
       "      <td>Vascular Plant</td>\n",
       "      <td>Tradescantia subaspera</td>\n",
       "      <td>Zigzag Spiderwort</td>\n",
       "      <td>Least-concern</td>\n",
       "    </tr>\n",
       "    <tr>\n",
       "      <th>2957</th>\n",
       "      <td>Nonvascular Plant</td>\n",
       "      <td>Zygodon viridissimus var. rupestris</td>\n",
       "      <td>Zygodon Moss</td>\n",
       "      <td>Least-concern</td>\n",
       "    </tr>\n",
       "    <tr>\n",
       "      <th>2956</th>\n",
       "      <td>Nonvascular Plant</td>\n",
       "      <td>Zygodon viridissimus</td>\n",
       "      <td>Zygodon Moss</td>\n",
       "      <td>Least-concern</td>\n",
       "    </tr>\n",
       "  </tbody>\n",
       "</table>\n",
       "<p>5541 rows × 4 columns</p>\n",
       "</div>"
      ],
      "text/plain": [
       "               category                      scientific_name  \\\n",
       "2295     Vascular Plant                       Poa saltuensis   \n",
       "2541     Vascular Plant                        Rubus alumnus   \n",
       "2542     Vascular Plant                        Rubus argutus   \n",
       "2549     Vascular Plant                   Rubus occidentalis   \n",
       "2554     Vascular Plant                           Rubus trux   \n",
       "...                 ...                                  ...   \n",
       "3033             Mammal                    Myotis yumanensis   \n",
       "5405     Vascular Plant        Delphinium patens ssp. patens   \n",
       "1161     Vascular Plant               Tradescantia subaspera   \n",
       "2957  Nonvascular Plant  Zygodon viridissimus var. rupestris   \n",
       "2956  Nonvascular Plant                 Zygodon viridissimus   \n",
       "\n",
       "           common_names conservation_status  \n",
       "2295        A Bluegrass       Least-concern  \n",
       "2541          A Bramble       Least-concern  \n",
       "2542          A Bramble       Least-concern  \n",
       "2549          A Bramble       Least-concern  \n",
       "2554          A Bramble       Least-concern  \n",
       "...                 ...                 ...  \n",
       "3033        Yuma Myotis  Species of Concern  \n",
       "5405    Zigzag Larkspur       Least-concern  \n",
       "1161  Zigzag Spiderwort       Least-concern  \n",
       "2957       Zygodon Moss       Least-concern  \n",
       "2956       Zygodon Moss       Least-concern  \n",
       "\n",
       "[5541 rows x 4 columns]"
      ]
     },
     "execution_count": 37,
     "metadata": {},
     "output_type": "execute_result"
    }
   ],
   "source": [
    "species.sort_values(by=[\"common_names\"])"
   ]
  },
  {
   "cell_type": "markdown",
   "metadata": {},
   "source": [
    "#### 2.2.4 Remove \"A\" at the Beginning of a Common Name"
   ]
  },
  {
   "cell_type": "code",
   "execution_count": 38,
   "metadata": {},
   "outputs": [],
   "source": [
    "temp = species.copy()"
   ]
  },
  {
   "cell_type": "code",
   "execution_count": 39,
   "metadata": {},
   "outputs": [
    {
     "data": {
      "text/plain": [
       "'Bluegrass'"
      ]
     },
     "execution_count": 39,
     "metadata": {},
     "output_type": "execute_result"
    }
   ],
   "source": [
    "string = temp.common_names.iloc[2295]\n",
    "string[1] == \" \"\n",
    "x = string.lstrip(\"A \")\n",
    "x"
   ]
  },
  {
   "cell_type": "code",
   "execution_count": 40,
   "metadata": {},
   "outputs": [],
   "source": [
    "for i in range(len(temp.common_names)):\n",
    "    string = temp.common_names[i]\n",
    "    if string[1] == \" \":\n",
    "        new_string = string.lstrip(\"A \")\n",
    "        temp.common_names[i] = new_string\n",
    "    else:\n",
    "        pass"
   ]
  },
  {
   "cell_type": "code",
   "execution_count": 41,
   "metadata": {},
   "outputs": [
    {
     "data": {
      "text/html": [
       "<div>\n",
       "<style scoped>\n",
       "    .dataframe tbody tr th:only-of-type {\n",
       "        vertical-align: middle;\n",
       "    }\n",
       "\n",
       "    .dataframe tbody tr th {\n",
       "        vertical-align: top;\n",
       "    }\n",
       "\n",
       "    .dataframe thead th {\n",
       "        text-align: right;\n",
       "    }\n",
       "</style>\n",
       "<table border=\"1\" class=\"dataframe\">\n",
       "  <thead>\n",
       "    <tr style=\"text-align: right;\">\n",
       "      <th></th>\n",
       "      <th>category</th>\n",
       "      <th>scientific_name</th>\n",
       "      <th>common_names</th>\n",
       "      <th>conservation_status</th>\n",
       "    </tr>\n",
       "  </thead>\n",
       "  <tbody>\n",
       "    <tr>\n",
       "      <th>2908</th>\n",
       "      <td>Nonvascular Plant</td>\n",
       "      <td>Abietinella abietina</td>\n",
       "      <td>Abietinella Moss</td>\n",
       "      <td>Least-concern</td>\n",
       "    </tr>\n",
       "    <tr>\n",
       "      <th>3730</th>\n",
       "      <td>Vascular Plant</td>\n",
       "      <td>Astragalus australis var. glabriusculus</td>\n",
       "      <td>Aboriginal Milkvetch</td>\n",
       "      <td>Least-concern</td>\n",
       "    </tr>\n",
       "    <tr>\n",
       "      <th>5195</th>\n",
       "      <td>Vascular Plant</td>\n",
       "      <td>Carex abrupta</td>\n",
       "      <td>Abruptbeak Sedge</td>\n",
       "      <td>Least-concern</td>\n",
       "    </tr>\n",
       "    <tr>\n",
       "      <th>3360</th>\n",
       "      <td>Vascular Plant</td>\n",
       "      <td>Artemisia absinthium</td>\n",
       "      <td>Absinth Sagewort</td>\n",
       "      <td>Least-concern</td>\n",
       "    </tr>\n",
       "    <tr>\n",
       "      <th>316</th>\n",
       "      <td>Bird</td>\n",
       "      <td>Empidonax virescens</td>\n",
       "      <td>Acadian Flycatcher</td>\n",
       "      <td>Least-concern</td>\n",
       "    </tr>\n",
       "    <tr>\n",
       "      <th>...</th>\n",
       "      <td>...</td>\n",
       "      <td>...</td>\n",
       "      <td>...</td>\n",
       "      <td>...</td>\n",
       "    </tr>\n",
       "    <tr>\n",
       "      <th>3033</th>\n",
       "      <td>Mammal</td>\n",
       "      <td>Myotis yumanensis</td>\n",
       "      <td>Yuma Myotis</td>\n",
       "      <td>Species of Concern</td>\n",
       "    </tr>\n",
       "    <tr>\n",
       "      <th>5405</th>\n",
       "      <td>Vascular Plant</td>\n",
       "      <td>Delphinium patens ssp. patens</td>\n",
       "      <td>Zigzag Larkspur</td>\n",
       "      <td>Least-concern</td>\n",
       "    </tr>\n",
       "    <tr>\n",
       "      <th>1161</th>\n",
       "      <td>Vascular Plant</td>\n",
       "      <td>Tradescantia subaspera</td>\n",
       "      <td>Zigzag Spiderwort</td>\n",
       "      <td>Least-concern</td>\n",
       "    </tr>\n",
       "    <tr>\n",
       "      <th>2956</th>\n",
       "      <td>Nonvascular Plant</td>\n",
       "      <td>Zygodon viridissimus</td>\n",
       "      <td>Zygodon Moss</td>\n",
       "      <td>Least-concern</td>\n",
       "    </tr>\n",
       "    <tr>\n",
       "      <th>2957</th>\n",
       "      <td>Nonvascular Plant</td>\n",
       "      <td>Zygodon viridissimus var. rupestris</td>\n",
       "      <td>Zygodon Moss</td>\n",
       "      <td>Least-concern</td>\n",
       "    </tr>\n",
       "  </tbody>\n",
       "</table>\n",
       "<p>5541 rows × 4 columns</p>\n",
       "</div>"
      ],
      "text/plain": [
       "               category                          scientific_name  \\\n",
       "2908  Nonvascular Plant                     Abietinella abietina   \n",
       "3730     Vascular Plant  Astragalus australis var. glabriusculus   \n",
       "5195     Vascular Plant                            Carex abrupta   \n",
       "3360     Vascular Plant                     Artemisia absinthium   \n",
       "316                Bird                      Empidonax virescens   \n",
       "...                 ...                                      ...   \n",
       "3033             Mammal                        Myotis yumanensis   \n",
       "5405     Vascular Plant            Delphinium patens ssp. patens   \n",
       "1161     Vascular Plant                   Tradescantia subaspera   \n",
       "2956  Nonvascular Plant                     Zygodon viridissimus   \n",
       "2957  Nonvascular Plant      Zygodon viridissimus var. rupestris   \n",
       "\n",
       "              common_names conservation_status  \n",
       "2908      Abietinella Moss       Least-concern  \n",
       "3730  Aboriginal Milkvetch       Least-concern  \n",
       "5195      Abruptbeak Sedge       Least-concern  \n",
       "3360      Absinth Sagewort       Least-concern  \n",
       "316     Acadian Flycatcher       Least-concern  \n",
       "...                    ...                 ...  \n",
       "3033           Yuma Myotis  Species of Concern  \n",
       "5405       Zigzag Larkspur       Least-concern  \n",
       "1161     Zigzag Spiderwort       Least-concern  \n",
       "2956          Zygodon Moss       Least-concern  \n",
       "2957          Zygodon Moss       Least-concern  \n",
       "\n",
       "[5541 rows x 4 columns]"
      ]
     },
     "execution_count": 41,
     "metadata": {},
     "output_type": "execute_result"
    }
   ],
   "source": [
    "temp.sort_values(by=[\"common_names\"])"
   ]
  },
  {
   "cell_type": "code",
   "execution_count": 42,
   "metadata": {},
   "outputs": [],
   "source": [
    "species.common_names = temp.common_names"
   ]
  },
  {
   "cell_type": "code",
   "execution_count": 43,
   "metadata": {},
   "outputs": [
    {
     "data": {
      "text/plain": [
       "0       Gapper's Red-Backed Vole\n",
       "1                 American Bison\n",
       "2                        Aurochs\n",
       "3                 Domestic Sheep\n",
       "4                         Wapiti\n",
       "                  ...           \n",
       "5536         Parish's Nightshade\n",
       "5537        Chaparral Nightshade\n",
       "5538             Thicket Creeper\n",
       "5539            California Grape\n",
       "5540                    Bullhead\n",
       "Name: common_names, Length: 5541, dtype: object"
      ]
     },
     "execution_count": 43,
     "metadata": {},
     "output_type": "execute_result"
    }
   ],
   "source": [
    "species.common_names"
   ]
  },
  {
   "cell_type": "markdown",
   "metadata": {},
   "source": [
    "#### 2.2.5 Combine Species and Observations Dataframe into a Single Dataframe."
   ]
  },
  {
   "cell_type": "code",
   "execution_count": 44,
   "metadata": {},
   "outputs": [],
   "source": [
    "df = observations.copy()"
   ]
  },
  {
   "cell_type": "code",
   "execution_count": 45,
   "metadata": {},
   "outputs": [],
   "source": [
    "df = pd.merge(df, species, on=\"scientific_name\")"
   ]
  },
  {
   "cell_type": "code",
   "execution_count": 46,
   "metadata": {},
   "outputs": [
    {
     "data": {
      "text/html": [
       "<div>\n",
       "<style scoped>\n",
       "    .dataframe tbody tr th:only-of-type {\n",
       "        vertical-align: middle;\n",
       "    }\n",
       "\n",
       "    .dataframe tbody tr th {\n",
       "        vertical-align: top;\n",
       "    }\n",
       "\n",
       "    .dataframe thead th {\n",
       "        text-align: right;\n",
       "    }\n",
       "</style>\n",
       "<table border=\"1\" class=\"dataframe\">\n",
       "  <thead>\n",
       "    <tr style=\"text-align: right;\">\n",
       "      <th></th>\n",
       "      <th>scientific_name</th>\n",
       "      <th>park_name</th>\n",
       "      <th>observations</th>\n",
       "      <th>category</th>\n",
       "      <th>common_names</th>\n",
       "      <th>conservation_status</th>\n",
       "    </tr>\n",
       "  </thead>\n",
       "  <tbody>\n",
       "    <tr>\n",
       "      <th>0</th>\n",
       "      <td>Vicia benghalensis</td>\n",
       "      <td>Great Smoky Mountains National Park</td>\n",
       "      <td>68</td>\n",
       "      <td>Vascular Plant</td>\n",
       "      <td>Purple Vetch</td>\n",
       "      <td>Least-concern</td>\n",
       "    </tr>\n",
       "    <tr>\n",
       "      <th>1</th>\n",
       "      <td>Vicia benghalensis</td>\n",
       "      <td>Yosemite National Park</td>\n",
       "      <td>148</td>\n",
       "      <td>Vascular Plant</td>\n",
       "      <td>Purple Vetch</td>\n",
       "      <td>Least-concern</td>\n",
       "    </tr>\n",
       "    <tr>\n",
       "      <th>2</th>\n",
       "      <td>Vicia benghalensis</td>\n",
       "      <td>Yellowstone National Park</td>\n",
       "      <td>247</td>\n",
       "      <td>Vascular Plant</td>\n",
       "      <td>Purple Vetch</td>\n",
       "      <td>Least-concern</td>\n",
       "    </tr>\n",
       "    <tr>\n",
       "      <th>3</th>\n",
       "      <td>Vicia benghalensis</td>\n",
       "      <td>Bryce National Park</td>\n",
       "      <td>104</td>\n",
       "      <td>Vascular Plant</td>\n",
       "      <td>Purple Vetch</td>\n",
       "      <td>Least-concern</td>\n",
       "    </tr>\n",
       "    <tr>\n",
       "      <th>4</th>\n",
       "      <td>Neovison vison</td>\n",
       "      <td>Great Smoky Mountains National Park</td>\n",
       "      <td>77</td>\n",
       "      <td>Mammal</td>\n",
       "      <td>American Mink</td>\n",
       "      <td>Least-concern</td>\n",
       "    </tr>\n",
       "    <tr>\n",
       "      <th>...</th>\n",
       "      <td>...</td>\n",
       "      <td>...</td>\n",
       "      <td>...</td>\n",
       "      <td>...</td>\n",
       "      <td>...</td>\n",
       "      <td>...</td>\n",
       "    </tr>\n",
       "    <tr>\n",
       "      <th>23291</th>\n",
       "      <td>Gulo gulo</td>\n",
       "      <td>Yosemite National Park</td>\n",
       "      <td>157</td>\n",
       "      <td>Mammal</td>\n",
       "      <td>Wolverine</td>\n",
       "      <td>Least-concern</td>\n",
       "    </tr>\n",
       "    <tr>\n",
       "      <th>23292</th>\n",
       "      <td>Dichanthelium depauperatum</td>\n",
       "      <td>Great Smoky Mountains National Park</td>\n",
       "      <td>88</td>\n",
       "      <td>Vascular Plant</td>\n",
       "      <td>Green Panic-Grass</td>\n",
       "      <td>Least-concern</td>\n",
       "    </tr>\n",
       "    <tr>\n",
       "      <th>23293</th>\n",
       "      <td>Dichanthelium depauperatum</td>\n",
       "      <td>Bryce National Park</td>\n",
       "      <td>80</td>\n",
       "      <td>Vascular Plant</td>\n",
       "      <td>Green Panic-Grass</td>\n",
       "      <td>Least-concern</td>\n",
       "    </tr>\n",
       "    <tr>\n",
       "      <th>23294</th>\n",
       "      <td>Dichanthelium depauperatum</td>\n",
       "      <td>Yellowstone National Park</td>\n",
       "      <td>255</td>\n",
       "      <td>Vascular Plant</td>\n",
       "      <td>Green Panic-Grass</td>\n",
       "      <td>Least-concern</td>\n",
       "    </tr>\n",
       "    <tr>\n",
       "      <th>23295</th>\n",
       "      <td>Dichanthelium depauperatum</td>\n",
       "      <td>Yosemite National Park</td>\n",
       "      <td>162</td>\n",
       "      <td>Vascular Plant</td>\n",
       "      <td>Green Panic-Grass</td>\n",
       "      <td>Least-concern</td>\n",
       "    </tr>\n",
       "  </tbody>\n",
       "</table>\n",
       "<p>23296 rows × 6 columns</p>\n",
       "</div>"
      ],
      "text/plain": [
       "                  scientific_name                            park_name  \\\n",
       "0              Vicia benghalensis  Great Smoky Mountains National Park   \n",
       "1              Vicia benghalensis               Yosemite National Park   \n",
       "2              Vicia benghalensis            Yellowstone National Park   \n",
       "3              Vicia benghalensis                  Bryce National Park   \n",
       "4                  Neovison vison  Great Smoky Mountains National Park   \n",
       "...                           ...                                  ...   \n",
       "23291                   Gulo gulo               Yosemite National Park   \n",
       "23292  Dichanthelium depauperatum  Great Smoky Mountains National Park   \n",
       "23293  Dichanthelium depauperatum                  Bryce National Park   \n",
       "23294  Dichanthelium depauperatum            Yellowstone National Park   \n",
       "23295  Dichanthelium depauperatum               Yosemite National Park   \n",
       "\n",
       "       observations        category       common_names conservation_status  \n",
       "0                68  Vascular Plant       Purple Vetch       Least-concern  \n",
       "1               148  Vascular Plant       Purple Vetch       Least-concern  \n",
       "2               247  Vascular Plant       Purple Vetch       Least-concern  \n",
       "3               104  Vascular Plant       Purple Vetch       Least-concern  \n",
       "4                77          Mammal      American Mink       Least-concern  \n",
       "...             ...             ...                ...                 ...  \n",
       "23291           157          Mammal          Wolverine       Least-concern  \n",
       "23292            88  Vascular Plant  Green Panic-Grass       Least-concern  \n",
       "23293            80  Vascular Plant  Green Panic-Grass       Least-concern  \n",
       "23294           255  Vascular Plant  Green Panic-Grass       Least-concern  \n",
       "23295           162  Vascular Plant  Green Panic-Grass       Least-concern  \n",
       "\n",
       "[23296 rows x 6 columns]"
      ]
     },
     "execution_count": 46,
     "metadata": {},
     "output_type": "execute_result"
    }
   ],
   "source": [
    "df"
   ]
  },
  {
   "cell_type": "code",
   "execution_count": 47,
   "metadata": {},
   "outputs": [
    {
     "data": {
      "text/html": [
       "<div>\n",
       "<style scoped>\n",
       "    .dataframe tbody tr th:only-of-type {\n",
       "        vertical-align: middle;\n",
       "    }\n",
       "\n",
       "    .dataframe tbody tr th {\n",
       "        vertical-align: top;\n",
       "    }\n",
       "\n",
       "    .dataframe thead th {\n",
       "        text-align: right;\n",
       "    }\n",
       "</style>\n",
       "<table border=\"1\" class=\"dataframe\">\n",
       "  <thead>\n",
       "    <tr style=\"text-align: right;\">\n",
       "      <th></th>\n",
       "      <th>category</th>\n",
       "      <th>scientific_name</th>\n",
       "      <th>common_names</th>\n",
       "      <th>conservation_status</th>\n",
       "    </tr>\n",
       "  </thead>\n",
       "  <tbody>\n",
       "    <tr>\n",
       "      <th>1</th>\n",
       "      <td>Mammal</td>\n",
       "      <td>Bos bison</td>\n",
       "      <td>American Bison</td>\n",
       "      <td>Least-concern</td>\n",
       "    </tr>\n",
       "  </tbody>\n",
       "</table>\n",
       "</div>"
      ],
      "text/plain": [
       "  category scientific_name    common_names conservation_status\n",
       "1   Mammal       Bos bison  American Bison       Least-concern"
      ]
     },
     "execution_count": 47,
     "metadata": {},
     "output_type": "execute_result"
    }
   ],
   "source": [
    "species[species.scientific_name == \"Bos bison\"]"
   ]
  },
  {
   "cell_type": "code",
   "execution_count": 48,
   "metadata": {},
   "outputs": [
    {
     "data": {
      "text/html": [
       "<div>\n",
       "<style scoped>\n",
       "    .dataframe tbody tr th:only-of-type {\n",
       "        vertical-align: middle;\n",
       "    }\n",
       "\n",
       "    .dataframe tbody tr th {\n",
       "        vertical-align: top;\n",
       "    }\n",
       "\n",
       "    .dataframe thead th {\n",
       "        text-align: right;\n",
       "    }\n",
       "</style>\n",
       "<table border=\"1\" class=\"dataframe\">\n",
       "  <thead>\n",
       "    <tr style=\"text-align: right;\">\n",
       "      <th></th>\n",
       "      <th>scientific_name</th>\n",
       "      <th>park_name</th>\n",
       "      <th>observations</th>\n",
       "    </tr>\n",
       "  </thead>\n",
       "  <tbody>\n",
       "    <tr>\n",
       "      <th>2472</th>\n",
       "      <td>Bos bison</td>\n",
       "      <td>Yosemite National Park</td>\n",
       "      <td>128</td>\n",
       "    </tr>\n",
       "    <tr>\n",
       "      <th>7578</th>\n",
       "      <td>Bos bison</td>\n",
       "      <td>Yellowstone National Park</td>\n",
       "      <td>269</td>\n",
       "    </tr>\n",
       "    <tr>\n",
       "      <th>13800</th>\n",
       "      <td>Bos bison</td>\n",
       "      <td>Bryce National Park</td>\n",
       "      <td>68</td>\n",
       "    </tr>\n",
       "    <tr>\n",
       "      <th>16868</th>\n",
       "      <td>Bos bison</td>\n",
       "      <td>Great Smoky Mountains National Park</td>\n",
       "      <td>77</td>\n",
       "    </tr>\n",
       "  </tbody>\n",
       "</table>\n",
       "</div>"
      ],
      "text/plain": [
       "      scientific_name                            park_name  observations\n",
       "2472        Bos bison               Yosemite National Park           128\n",
       "7578        Bos bison            Yellowstone National Park           269\n",
       "13800       Bos bison                  Bryce National Park            68\n",
       "16868       Bos bison  Great Smoky Mountains National Park            77"
      ]
     },
     "execution_count": 48,
     "metadata": {},
     "output_type": "execute_result"
    }
   ],
   "source": [
    "observations[observations.scientific_name == \"Bos bison\"]"
   ]
  },
  {
   "cell_type": "code",
   "execution_count": 49,
   "metadata": {},
   "outputs": [
    {
     "data": {
      "text/html": [
       "<div>\n",
       "<style scoped>\n",
       "    .dataframe tbody tr th:only-of-type {\n",
       "        vertical-align: middle;\n",
       "    }\n",
       "\n",
       "    .dataframe tbody tr th {\n",
       "        vertical-align: top;\n",
       "    }\n",
       "\n",
       "    .dataframe thead th {\n",
       "        text-align: right;\n",
       "    }\n",
       "</style>\n",
       "<table border=\"1\" class=\"dataframe\">\n",
       "  <thead>\n",
       "    <tr style=\"text-align: right;\">\n",
       "      <th></th>\n",
       "      <th>scientific_name</th>\n",
       "      <th>park_name</th>\n",
       "      <th>observations</th>\n",
       "      <th>category</th>\n",
       "      <th>common_names</th>\n",
       "      <th>conservation_status</th>\n",
       "    </tr>\n",
       "  </thead>\n",
       "  <tbody>\n",
       "    <tr>\n",
       "      <th>8940</th>\n",
       "      <td>Bos bison</td>\n",
       "      <td>Yosemite National Park</td>\n",
       "      <td>128</td>\n",
       "      <td>Mammal</td>\n",
       "      <td>American Bison</td>\n",
       "      <td>Least-concern</td>\n",
       "    </tr>\n",
       "    <tr>\n",
       "      <th>8941</th>\n",
       "      <td>Bos bison</td>\n",
       "      <td>Yellowstone National Park</td>\n",
       "      <td>269</td>\n",
       "      <td>Mammal</td>\n",
       "      <td>American Bison</td>\n",
       "      <td>Least-concern</td>\n",
       "    </tr>\n",
       "    <tr>\n",
       "      <th>8942</th>\n",
       "      <td>Bos bison</td>\n",
       "      <td>Bryce National Park</td>\n",
       "      <td>68</td>\n",
       "      <td>Mammal</td>\n",
       "      <td>American Bison</td>\n",
       "      <td>Least-concern</td>\n",
       "    </tr>\n",
       "    <tr>\n",
       "      <th>8943</th>\n",
       "      <td>Bos bison</td>\n",
       "      <td>Great Smoky Mountains National Park</td>\n",
       "      <td>77</td>\n",
       "      <td>Mammal</td>\n",
       "      <td>American Bison</td>\n",
       "      <td>Least-concern</td>\n",
       "    </tr>\n",
       "  </tbody>\n",
       "</table>\n",
       "</div>"
      ],
      "text/plain": [
       "     scientific_name                            park_name  observations  \\\n",
       "8940       Bos bison               Yosemite National Park           128   \n",
       "8941       Bos bison            Yellowstone National Park           269   \n",
       "8942       Bos bison                  Bryce National Park            68   \n",
       "8943       Bos bison  Great Smoky Mountains National Park            77   \n",
       "\n",
       "     category    common_names conservation_status  \n",
       "8940   Mammal  American Bison       Least-concern  \n",
       "8941   Mammal  American Bison       Least-concern  \n",
       "8942   Mammal  American Bison       Least-concern  \n",
       "8943   Mammal  American Bison       Least-concern  "
      ]
     },
     "execution_count": 49,
     "metadata": {},
     "output_type": "execute_result"
    }
   ],
   "source": [
    "df[df.scientific_name == \"Bos bison\"]"
   ]
  },
  {
   "cell_type": "markdown",
   "metadata": {},
   "source": [
    "## 3. Exploratory Data Analysis"
   ]
  },
  {
   "cell_type": "markdown",
   "metadata": {},
   "source": [
    "### 3.1 Distribution of Endangered and Least-Concern Groups For Each Category"
   ]
  },
  {
   "cell_type": "code",
   "execution_count": 50,
   "metadata": {},
   "outputs": [],
   "source": [
    "categories = [\"Mammal\", \"Bird\", \"Amphibian\", \"Reptile\", \"Fish\", \"Vascular Plant\", \"Nonvascular Plant\"]"
   ]
  },
  {
   "cell_type": "code",
   "execution_count": 51,
   "metadata": {},
   "outputs": [
    {
     "data": {
      "text/plain": [
       "['Mammal',\n",
       " 'Bird',\n",
       " 'Amphibian',\n",
       " 'Reptile',\n",
       " 'Fish',\n",
       " 'Vascular Plant',\n",
       " 'Nonvascular Plant']"
      ]
     },
     "execution_count": 51,
     "metadata": {},
     "output_type": "execute_result"
    }
   ],
   "source": [
    "categories"
   ]
  },
  {
   "cell_type": "code",
   "execution_count": 52,
   "metadata": {},
   "outputs": [
    {
     "data": {
      "image/png": "[encoded data removed]",
      "text/plain": [
       "<Figure size 1800x1000 with 7 Axes>"
      ]
     },
     "metadata": {},
     "output_type": "display_data"
    }
   ],
   "source": [
    "## Plot yearly precentage change in GDP for individual countries\n",
    "nrow = 3\n",
    "ncol = 3\n",
    "fig, axes = plt.subplots(nrow, ncol, figsize=(18, 10))\n",
    "plt.rcParams['font.size'] = 12\n",
    "fig.suptitle(f\"Distribution of Endangered and Least-concern Groups for Each Category\",\n",
    "              fontsize = 20)\n",
    "\n",
    "for index, cat in enumerate(categories):\n",
    "    ## Create a temporary dataframe and do necessary calculations\n",
    "    temp_df = species[species.category == cat]\n",
    "    \n",
    "    total_count = temp_df.shape[0]\n",
    "    least_count = temp_df.category[temp_df.conservation_status == \"Least-concern\"].count()\n",
    "    least_count = least_count + temp_df.category[temp_df.conservation_status == \"In Recovery\"].count()\n",
    "    end_count = total_count - least_count\n",
    "    \n",
    "    least_pct = least_count / total_count * 100\n",
    "    end_pct = end_count / total_count * 100\n",
    "\n",
    "    ## Plot the graph\n",
    "    ax = plt.subplot(nrow, ncol, index+1)\n",
    "    \n",
    "    ax.bar(x = [\"LC\", \"END\"],\n",
    "           height = [least_pct, end_pct],\n",
    "           color = \"steelblue\")\n",
    "    \n",
    "    ax.set_ylim(0, 100)\n",
    "\n",
    "    ax.grid(alpha = 0.7, color='gray', axis=\"y\")\n",
    "    ax.set_ylabel(f\"Percentage (%)\", fontsize = 14)\n",
    "    plt.title(f\"{cat.title()}\", fontsize = 16)\n",
    "        \n",
    "    ax.spines['left'].set_linewidth(1.5)\n",
    "    ax.spines['bottom'].set_linewidth(1.5)\n",
    "    \n",
    "    sns.despine(ax=ax, offset=0)\n",
    "    \n",
    "    plt.annotate(f\"{round(least_pct, 2)}%\", \n",
    "                 xy = [0, end_pct+5], \n",
    "                 horizontalalignment = 'center',\n",
    "                 color = 'black',\n",
    "                 fontsize = 16)\n",
    "    \n",
    "    plt.annotate(f\"{round(end_pct, 2)}%\", \n",
    "                 xy = [1, end_pct+5], \n",
    "                 horizontalalignment = 'center',\n",
    "                 color = 'black',\n",
    "                 fontsize = 16)\n",
    "\n",
    "axs1  = plt.subplot(nrow, ncol, 8)\n",
    "axs2  = plt.subplot(nrow, ncol, 9)\n",
    "fig.delaxes(axs1)\n",
    "fig.delaxes(axs2)\n",
    "\n",
    "txt=f\"LC = Least-concern & In Recovery\\nEND = Endangered (including Species of Concern, Endangered, and Threatened)\"\n",
    "plt.figtext(0.85, 0.01, txt, wrap=True, horizontalalignment='right', fontsize=12) \n",
    "\n",
    "plt.show()"
   ]
  },
  {
   "cell_type": "markdown",
   "metadata": {},
   "source": [
    "Analysis:\n",
    "- Here, we consider \"endangered\" to include \"species of concern\", \"endangered\" and \"threatened\".\n",
    "- Of all the categories, __mammals and birds are the top two categories that are most likely to be endangered__ based on their ratio of endangered to least-concern (around 16% of mammals and 15% of birds are endangered).\n",
    "- Both vascular and nonvascular plants are least likely to be endangered."
   ]
  },
  {
   "cell_type": "markdown",
   "metadata": {},
   "source": [
    "### 3.2 Distribution of Conservation Status for Animals"
   ]
  },
  {
   "cell_type": "code",
   "execution_count": 53,
   "metadata": {},
   "outputs": [
    {
     "data": {
      "image/png": "[encoded data removed]",
      "text/plain": [
       "<Figure size 1600x1000 with 1 Axes>"
      ]
     },
     "metadata": {},
     "output_type": "display_data"
    }
   ],
   "source": [
    "## Plot Conservation Status\n",
    "nrow = 1\n",
    "ncol = 1\n",
    "fig, axes = plt.subplots(nrow, ncol, figsize=(16, 10))\n",
    "plt.rcParams['font.size'] = 14\n",
    "fig.suptitle(f\"Distribution of Conservation Status\",\n",
    "              fontsize = 20)\n",
    "\n",
    "ax = plt.subplot(nrow, ncol, 1)\n",
    "sns.countplot(x = \"conservation_status\",\n",
    "              data = species)\n",
    "\n",
    "plt.xlabel(\"Conservation Status\", fontsize=18, labelpad=20)\n",
    "plt.ylabel(\"Frequency\", fontsize=18, labelpad=20)\n",
    "\n",
    "plt.yticks(fontsize=16)\n",
    "plt.xticks(fontsize = 16)\n",
    "\n",
    "ax.grid(alpha = 0.7, color='gray', axis=\"y\")\n",
    "ax.spines['left'].set_linewidth(2)\n",
    "ax.spines['bottom'].set_linewidth(2)\n",
    "\n",
    "ax.set_ylim(0, 6000)\n",
    "\n",
    "sns.despine(ax=ax, offset=0)\n",
    "\n",
    "plt.show()"
   ]
  },
  {
   "cell_type": "markdown",
   "metadata": {},
   "source": [
    "Analysis:\n",
    "- Least-concern species are around 97% of the total number of species.\n",
    "- We should remove the least-concern species from this analysis to see the distribution of species in danger."
   ]
  },
  {
   "cell_type": "code",
   "execution_count": 54,
   "metadata": {},
   "outputs": [
    {
     "data": {
      "text/html": [
       "<div>\n",
       "<style scoped>\n",
       "    .dataframe tbody tr th:only-of-type {\n",
       "        vertical-align: middle;\n",
       "    }\n",
       "\n",
       "    .dataframe tbody tr th {\n",
       "        vertical-align: top;\n",
       "    }\n",
       "\n",
       "    .dataframe thead th {\n",
       "        text-align: right;\n",
       "    }\n",
       "</style>\n",
       "<table border=\"1\" class=\"dataframe\">\n",
       "  <thead>\n",
       "    <tr style=\"text-align: right;\">\n",
       "      <th></th>\n",
       "      <th>category</th>\n",
       "      <th>scientific_name</th>\n",
       "      <th>common_names</th>\n",
       "      <th>conservation_status</th>\n",
       "    </tr>\n",
       "  </thead>\n",
       "  <tbody>\n",
       "    <tr>\n",
       "      <th>7</th>\n",
       "      <td>Mammal</td>\n",
       "      <td>Canis latrans</td>\n",
       "      <td>Coyote</td>\n",
       "      <td>Species of Concern</td>\n",
       "    </tr>\n",
       "    <tr>\n",
       "      <th>8</th>\n",
       "      <td>Mammal</td>\n",
       "      <td>Canis lupus</td>\n",
       "      <td>Gray Wolf</td>\n",
       "      <td>In Recovery</td>\n",
       "    </tr>\n",
       "    <tr>\n",
       "      <th>9</th>\n",
       "      <td>Mammal</td>\n",
       "      <td>Canis rufus</td>\n",
       "      <td>Red Wolf</td>\n",
       "      <td>Endangered</td>\n",
       "    </tr>\n",
       "    <tr>\n",
       "      <th>29</th>\n",
       "      <td>Mammal</td>\n",
       "      <td>Eptesicus fuscus</td>\n",
       "      <td>Big Brown Bat</td>\n",
       "      <td>Species of Concern</td>\n",
       "    </tr>\n",
       "    <tr>\n",
       "      <th>30</th>\n",
       "      <td>Mammal</td>\n",
       "      <td>Lasionycteris noctivagans</td>\n",
       "      <td>Silver-Haired Bat</td>\n",
       "      <td>Species of Concern</td>\n",
       "    </tr>\n",
       "    <tr>\n",
       "      <th>...</th>\n",
       "      <td>...</td>\n",
       "      <td>...</td>\n",
       "      <td>...</td>\n",
       "      <td>...</td>\n",
       "    </tr>\n",
       "    <tr>\n",
       "      <th>5049</th>\n",
       "      <td>Vascular Plant</td>\n",
       "      <td>Callitriche marginata</td>\n",
       "      <td>Winged Water-Starwort</td>\n",
       "      <td>Species of Concern</td>\n",
       "    </tr>\n",
       "    <tr>\n",
       "      <th>5140</th>\n",
       "      <td>Vascular Plant</td>\n",
       "      <td>Camissonia sierrae ssp. alticola</td>\n",
       "      <td>Mono Hot Springs Evening Primrose</td>\n",
       "      <td>Species of Concern</td>\n",
       "    </tr>\n",
       "    <tr>\n",
       "      <th>5166</th>\n",
       "      <td>Vascular Plant</td>\n",
       "      <td>Epilobium oreganum</td>\n",
       "      <td>Grants Pass Willowherb</td>\n",
       "      <td>Species of Concern</td>\n",
       "    </tr>\n",
       "    <tr>\n",
       "      <th>5175</th>\n",
       "      <td>Vascular Plant</td>\n",
       "      <td>Botrychium ascendens</td>\n",
       "      <td>Trianglelobe Moonwort</td>\n",
       "      <td>Species of Concern</td>\n",
       "    </tr>\n",
       "    <tr>\n",
       "      <th>5394</th>\n",
       "      <td>Vascular Plant</td>\n",
       "      <td>Romneya coulteri</td>\n",
       "      <td>Coulter's Matilija Poppy</td>\n",
       "      <td>Species of Concern</td>\n",
       "    </tr>\n",
       "  </tbody>\n",
       "</table>\n",
       "<p>179 rows × 4 columns</p>\n",
       "</div>"
      ],
      "text/plain": [
       "            category                   scientific_name  \\\n",
       "7             Mammal                     Canis latrans   \n",
       "8             Mammal                       Canis lupus   \n",
       "9             Mammal                       Canis rufus   \n",
       "29            Mammal                  Eptesicus fuscus   \n",
       "30            Mammal         Lasionycteris noctivagans   \n",
       "...              ...                               ...   \n",
       "5049  Vascular Plant             Callitriche marginata   \n",
       "5140  Vascular Plant  Camissonia sierrae ssp. alticola   \n",
       "5166  Vascular Plant                Epilobium oreganum   \n",
       "5175  Vascular Plant              Botrychium ascendens   \n",
       "5394  Vascular Plant                  Romneya coulteri   \n",
       "\n",
       "                           common_names conservation_status  \n",
       "7                                Coyote  Species of Concern  \n",
       "8                             Gray Wolf         In Recovery  \n",
       "9                              Red Wolf          Endangered  \n",
       "29                        Big Brown Bat  Species of Concern  \n",
       "30                    Silver-Haired Bat  Species of Concern  \n",
       "...                                 ...                 ...  \n",
       "5049              Winged Water-Starwort  Species of Concern  \n",
       "5140  Mono Hot Springs Evening Primrose  Species of Concern  \n",
       "5166             Grants Pass Willowherb  Species of Concern  \n",
       "5175              Trianglelobe Moonwort  Species of Concern  \n",
       "5394           Coulter's Matilija Poppy  Species of Concern  \n",
       "\n",
       "[179 rows x 4 columns]"
      ]
     },
     "execution_count": 54,
     "metadata": {},
     "output_type": "execute_result"
    }
   ],
   "source": [
    "endangered = species.copy()\n",
    "endangered = endangered[endangered.conservation_status != \"Least-concern\"]\n",
    "endangered"
   ]
  },
  {
   "cell_type": "code",
   "execution_count": 55,
   "metadata": {},
   "outputs": [],
   "source": [
    "groups = ['Species of Concern', 'Endangered', 'Threatened', 'In Recovery']\n",
    "total_count = endangered.shape[0]\n",
    "counts = [endangered.conservation_status[endangered.conservation_status == group].count() for group in groups]\n",
    "pct = [endangered.conservation_status[endangered.conservation_status == group].count()/total_count * 100 for group in groups]"
   ]
  },
  {
   "cell_type": "code",
   "execution_count": 56,
   "metadata": {},
   "outputs": [
    {
     "data": {
      "image/png": "[encoded data removed]",
      "text/plain": [
       "<Figure size 1200x600 with 1 Axes>"
      ]
     },
     "metadata": {},
     "output_type": "display_data"
    }
   ],
   "source": [
    "## Plot Conservation Status\n",
    "nrow = 1\n",
    "ncol = 1\n",
    "fig, ax = plt.subplots(nrow, ncol, figsize=(12, 6))\n",
    "plt.rcParams['font.size'] = 16\n",
    "fig.suptitle(f\"Distribution of Conservation Status\",\n",
    "              fontsize = 20)\n",
    "\n",
    "ax = plt.subplot(nrow, ncol, 1)\n",
    "ax.bar(x = groups,\n",
    "       height = counts,\n",
    "       color=\"steelblue\")\n",
    "\n",
    "# ax.set_xlabel(\"Conservation Status\", fontsize=20, labelpad=20)\n",
    "ax.set_ylabel(\"Frequency\", fontsize=22, labelpad=20)\n",
    "\n",
    "plt.yticks(fontsize=16)\n",
    "plt.xticks(fontsize = 16)\n",
    "\n",
    "ax.grid(alpha = 0.7, color='gray', axis=\"y\")\n",
    "ax.spines['left'].set_linewidth(2)\n",
    "ax.spines['bottom'].set_linewidth(2)\n",
    "\n",
    "ax.set_ylim(0, 160)\n",
    "\n",
    "sns.despine(ax=ax, offset=0)\n",
    "\n",
    "for i in range(len(pct)):\n",
    "    plt.annotate(f\"{round(pct[i], 2)}%\", \n",
    "                 xy = [i, pct[i]*180/100], \n",
    "                 horizontalalignment = 'center',\n",
    "                 color = 'black',\n",
    "                 fontsize = 16)\n",
    "\n",
    "\n",
    "plt.show()"
   ]
  },
  {
   "cell_type": "markdown",
   "metadata": {},
   "source": [
    "Analysis:\n",
    "- Of those species that are endangered, around 85% are classed as \"Species of Concern\", 8% are classed as \"endangered\", 5% are classed as \"Threatened\" and only 2% are classed as \"In Recovery\".\n",
    "- Let us now take a look at distribution of catergory for each conservation group."
   ]
  },
  {
   "cell_type": "code",
   "execution_count": 57,
   "metadata": {},
   "outputs": [],
   "source": [
    "cat_pct = {}\n",
    "categories = endangered.category.unique()\n",
    "\n",
    "for group in groups:\n",
    "    group_count = endangered.conservation_status[endangered.conservation_status == group].count()\n",
    "    cat_pct[group] = {}\n",
    "    \n",
    "    for cat in categories:\n",
    "        cat_count = endangered.category[(endangered.conservation_status == group) &\n",
    "                                        (endangered.category == cat)].count()\n",
    "        cat_pct[group][cat] = round(cat_count/group_count * 100, 2)"
   ]
  },
  {
   "cell_type": "code",
   "execution_count": 58,
   "metadata": {},
   "outputs": [],
   "source": [
    "cat_pct = pd.DataFrame(cat_pct)"
   ]
  },
  {
   "cell_type": "code",
   "execution_count": 59,
   "metadata": {},
   "outputs": [],
   "source": [
    "cat_pct = cat_pct.T"
   ]
  },
  {
   "cell_type": "code",
   "execution_count": 60,
   "metadata": {},
   "outputs": [],
   "source": [
    "cat_pct = cat_pct.reset_index()"
   ]
  },
  {
   "cell_type": "code",
   "execution_count": 61,
   "metadata": {},
   "outputs": [
    {
     "data": {
      "text/plain": [
       "array(['Mammal', 'Bird', 'Reptile', 'Amphibian', 'Fish', 'Vascular Plant',\n",
       "       'Nonvascular Plant'], dtype=object)"
      ]
     },
     "execution_count": 61,
     "metadata": {},
     "output_type": "execute_result"
    }
   ],
   "source": [
    "categories"
   ]
  },
  {
   "cell_type": "code",
   "execution_count": 62,
   "metadata": {},
   "outputs": [
    {
     "data": {
      "text/html": [
       "<div>\n",
       "<style scoped>\n",
       "    .dataframe tbody tr th:only-of-type {\n",
       "        vertical-align: middle;\n",
       "    }\n",
       "\n",
       "    .dataframe tbody tr th {\n",
       "        vertical-align: top;\n",
       "    }\n",
       "\n",
       "    .dataframe thead th {\n",
       "        text-align: right;\n",
       "    }\n",
       "</style>\n",
       "<table border=\"1\" class=\"dataframe\">\n",
       "  <thead>\n",
       "    <tr style=\"text-align: right;\">\n",
       "      <th></th>\n",
       "      <th>index</th>\n",
       "      <th>Mammal</th>\n",
       "      <th>Bird</th>\n",
       "      <th>Reptile</th>\n",
       "      <th>Amphibian</th>\n",
       "      <th>Fish</th>\n",
       "      <th>Vascular Plant</th>\n",
       "      <th>Nonvascular Plant</th>\n",
       "    </tr>\n",
       "  </thead>\n",
       "  <tbody>\n",
       "    <tr>\n",
       "      <th>0</th>\n",
       "      <td>Species of Concern</td>\n",
       "      <td>14.57</td>\n",
       "      <td>45.03</td>\n",
       "      <td>3.31</td>\n",
       "      <td>2.65</td>\n",
       "      <td>2.65</td>\n",
       "      <td>28.48</td>\n",
       "      <td>3.31</td>\n",
       "    </tr>\n",
       "    <tr>\n",
       "      <th>1</th>\n",
       "      <td>Endangered</td>\n",
       "      <td>35.71</td>\n",
       "      <td>28.57</td>\n",
       "      <td>0.00</td>\n",
       "      <td>7.14</td>\n",
       "      <td>21.43</td>\n",
       "      <td>7.14</td>\n",
       "      <td>0.00</td>\n",
       "    </tr>\n",
       "    <tr>\n",
       "      <th>2</th>\n",
       "      <td>Threatened</td>\n",
       "      <td>20.00</td>\n",
       "      <td>0.00</td>\n",
       "      <td>0.00</td>\n",
       "      <td>20.00</td>\n",
       "      <td>40.00</td>\n",
       "      <td>20.00</td>\n",
       "      <td>0.00</td>\n",
       "    </tr>\n",
       "    <tr>\n",
       "      <th>3</th>\n",
       "      <td>In Recovery</td>\n",
       "      <td>25.00</td>\n",
       "      <td>75.00</td>\n",
       "      <td>0.00</td>\n",
       "      <td>0.00</td>\n",
       "      <td>0.00</td>\n",
       "      <td>0.00</td>\n",
       "      <td>0.00</td>\n",
       "    </tr>\n",
       "  </tbody>\n",
       "</table>\n",
       "</div>"
      ],
      "text/plain": [
       "                index  Mammal   Bird  Reptile  Amphibian   Fish  \\\n",
       "0  Species of Concern   14.57  45.03     3.31       2.65   2.65   \n",
       "1          Endangered   35.71  28.57     0.00       7.14  21.43   \n",
       "2          Threatened   20.00   0.00     0.00      20.00  40.00   \n",
       "3         In Recovery   25.00  75.00     0.00       0.00   0.00   \n",
       "\n",
       "   Vascular Plant  Nonvascular Plant  \n",
       "0           28.48               3.31  \n",
       "1            7.14               0.00  \n",
       "2           20.00               0.00  \n",
       "3            0.00               0.00  "
      ]
     },
     "execution_count": 62,
     "metadata": {},
     "output_type": "execute_result"
    }
   ],
   "source": [
    "cat_pct"
   ]
  },
  {
   "cell_type": "code",
   "execution_count": 63,
   "metadata": {},
   "outputs": [
    {
     "data": {
      "image/png": "[encoded data removed]",
      "text/plain": [
       "<Figure size 1400x800 with 1 Axes>"
      ]
     },
     "metadata": {},
     "output_type": "display_data"
    }
   ],
   "source": [
    "## plot data in stack manner of bar type\n",
    "fig = plt.figure(figsize=(14,8))\n",
    "ax = fig.add_subplot(111)\n",
    "fig.suptitle(f\"Distribution of Species Categories for Each Conservation Status\",\n",
    "              fontsize = 22)\n",
    "sns.set_palette(\"Paired\")\n",
    "ax = cat_pct.plot.bar(x=\"index\", stacked=True,  ax=ax)\n",
    "\n",
    "ax.set_ylabel(\"Percentage (%)\", fontsize=22, labelpad=20)\n",
    "ax.set(xlabel=None)\n",
    "plt.yticks(fontsize=16)\n",
    "plt.xticks(fontsize = 20)\n",
    "\n",
    "ax.grid(alpha = 0.7, color='gray', axis=\"y\")\n",
    "ax.spines['left'].set_linewidth(2)\n",
    "ax.spines['bottom'].set_linewidth(2)\n",
    "\n",
    "ax.set_ylim(0, 100)\n",
    "\n",
    "sns.despine(ax=ax, offset=0)\n",
    "\n",
    "plt.legend(bbox_to_anchor=(1.04, 1), loc=\"upper left\")\n",
    "\n",
    "plt.show()"
   ]
  },
  {
   "cell_type": "markdown",
   "metadata": {},
   "source": [
    "Analysis:\n",
    "- As we expected, the majority of species of concern and endangered speces are birds or mammals (~60%).\n",
    "- Of those species that are threatened, the majority are fish or amphibian (60%). There are few mammals and vascular plants that are also threatened, but no birds.\n",
    "- Unlike vascular plants, no nonvascular plants are endangered or threatened.\n",
    "- Only birds and mammals are in recovery."
   ]
  },
  {
   "cell_type": "code",
   "execution_count": 64,
   "metadata": {},
   "outputs": [],
   "source": [
    "## Closer look at endangered and threatened species"
   ]
  },
  {
   "cell_type": "code",
   "execution_count": 65,
   "metadata": {},
   "outputs": [
    {
     "data": {
      "text/html": [
       "<div>\n",
       "<style scoped>\n",
       "    .dataframe tbody tr th:only-of-type {\n",
       "        vertical-align: middle;\n",
       "    }\n",
       "\n",
       "    .dataframe tbody tr th {\n",
       "        vertical-align: top;\n",
       "    }\n",
       "\n",
       "    .dataframe thead th {\n",
       "        text-align: right;\n",
       "    }\n",
       "</style>\n",
       "<table border=\"1\" class=\"dataframe\">\n",
       "  <thead>\n",
       "    <tr style=\"text-align: right;\">\n",
       "      <th></th>\n",
       "      <th>common_names</th>\n",
       "      <th>category</th>\n",
       "    </tr>\n",
       "  </thead>\n",
       "  <tbody>\n",
       "    <tr>\n",
       "      <th>4385</th>\n",
       "      <td>California Red-Legged Frog</td>\n",
       "      <td>Amphibian</td>\n",
       "    </tr>\n",
       "    <tr>\n",
       "      <th>4382</th>\n",
       "      <td>Yosemite Toad</td>\n",
       "      <td>Amphibian</td>\n",
       "    </tr>\n",
       "    <tr>\n",
       "      <th>4386</th>\n",
       "      <td>Sierra Nevada Yellow-Legged Frog</td>\n",
       "      <td>Amphibian</td>\n",
       "    </tr>\n",
       "    <tr>\n",
       "      <th>4306</th>\n",
       "      <td>California Condor</td>\n",
       "      <td>Bird</td>\n",
       "    </tr>\n",
       "    <tr>\n",
       "      <th>173</th>\n",
       "      <td>Whooping Crane</td>\n",
       "      <td>Bird</td>\n",
       "    </tr>\n",
       "    <tr>\n",
       "      <th>276</th>\n",
       "      <td>Bachman's Warbler</td>\n",
       "      <td>Bird</td>\n",
       "    </tr>\n",
       "    <tr>\n",
       "      <th>343</th>\n",
       "      <td>Red-Cockaded Woodpecker</td>\n",
       "      <td>Bird</td>\n",
       "    </tr>\n",
       "    <tr>\n",
       "      <th>570</th>\n",
       "      <td>Smoky Madtom</td>\n",
       "      <td>Fish</td>\n",
       "    </tr>\n",
       "    <tr>\n",
       "      <th>3238</th>\n",
       "      <td>June Sucker</td>\n",
       "      <td>Fish</td>\n",
       "    </tr>\n",
       "    <tr>\n",
       "      <th>571</th>\n",
       "      <td>Yellowfin Madtom</td>\n",
       "      <td>Fish</td>\n",
       "    </tr>\n",
       "    <tr>\n",
       "      <th>4397</th>\n",
       "      <td>Lahontan Cutthroat Trout</td>\n",
       "      <td>Fish</td>\n",
       "    </tr>\n",
       "    <tr>\n",
       "      <th>540</th>\n",
       "      <td>Duskytail Darter</td>\n",
       "      <td>Fish</td>\n",
       "    </tr>\n",
       "    <tr>\n",
       "      <th>490</th>\n",
       "      <td>Spotfin Chub</td>\n",
       "      <td>Fish</td>\n",
       "    </tr>\n",
       "    <tr>\n",
       "      <th>560</th>\n",
       "      <td>Rainbow Trout</td>\n",
       "      <td>Fish</td>\n",
       "    </tr>\n",
       "    <tr>\n",
       "      <th>3024</th>\n",
       "      <td>Grizzly Bear</td>\n",
       "      <td>Mammal</td>\n",
       "    </tr>\n",
       "    <tr>\n",
       "      <th>72</th>\n",
       "      <td>Carolina Northern Flying Squirrel</td>\n",
       "      <td>Mammal</td>\n",
       "    </tr>\n",
       "    <tr>\n",
       "      <th>4267</th>\n",
       "      <td>Sierra Nevada Bighorn Sheep</td>\n",
       "      <td>Mammal</td>\n",
       "    </tr>\n",
       "    <tr>\n",
       "      <th>39</th>\n",
       "      <td>Indiana Bat</td>\n",
       "      <td>Mammal</td>\n",
       "    </tr>\n",
       "    <tr>\n",
       "      <th>38</th>\n",
       "      <td>Northern Long-Eared Bat</td>\n",
       "      <td>Mammal</td>\n",
       "    </tr>\n",
       "    <tr>\n",
       "      <th>34</th>\n",
       "      <td>Gray Myotis</td>\n",
       "      <td>Mammal</td>\n",
       "    </tr>\n",
       "    <tr>\n",
       "      <th>9</th>\n",
       "      <td>Red Wolf</td>\n",
       "      <td>Mammal</td>\n",
       "    </tr>\n",
       "    <tr>\n",
       "      <th>704</th>\n",
       "      <td>Small Whorled Pogonia</td>\n",
       "      <td>Vascular Plant</td>\n",
       "    </tr>\n",
       "    <tr>\n",
       "      <th>2497</th>\n",
       "      <td>Mountain Avens</td>\n",
       "      <td>Vascular Plant</td>\n",
       "    </tr>\n",
       "    <tr>\n",
       "      <th>2562</th>\n",
       "      <td>Virginia Spiraea</td>\n",
       "      <td>Vascular Plant</td>\n",
       "    </tr>\n",
       "  </tbody>\n",
       "</table>\n",
       "</div>"
      ],
      "text/plain": [
       "                           common_names        category\n",
       "4385         California Red-Legged Frog       Amphibian\n",
       "4382                      Yosemite Toad       Amphibian\n",
       "4386   Sierra Nevada Yellow-Legged Frog       Amphibian\n",
       "4306                  California Condor            Bird\n",
       "173                      Whooping Crane            Bird\n",
       "276                   Bachman's Warbler            Bird\n",
       "343             Red-Cockaded Woodpecker            Bird\n",
       "570                        Smoky Madtom            Fish\n",
       "3238                        June Sucker            Fish\n",
       "571                    Yellowfin Madtom            Fish\n",
       "4397           Lahontan Cutthroat Trout            Fish\n",
       "540                    Duskytail Darter            Fish\n",
       "490                        Spotfin Chub            Fish\n",
       "560                       Rainbow Trout            Fish\n",
       "3024                       Grizzly Bear          Mammal\n",
       "72    Carolina Northern Flying Squirrel          Mammal\n",
       "4267        Sierra Nevada Bighorn Sheep          Mammal\n",
       "39                          Indiana Bat          Mammal\n",
       "38              Northern Long-Eared Bat          Mammal\n",
       "34                          Gray Myotis          Mammal\n",
       "9                              Red Wolf          Mammal\n",
       "704               Small Whorled Pogonia  Vascular Plant\n",
       "2497                     Mountain Avens  Vascular Plant\n",
       "2562                   Virginia Spiraea  Vascular Plant"
      ]
     },
     "execution_count": 65,
     "metadata": {},
     "output_type": "execute_result"
    }
   ],
   "source": [
    "endangered[[\"common_names\", \"category\"]][(endangered.conservation_status == \"Endangered\")|(endangered.conservation_status == \"Threatened\")].sort_values(by=\"category\")"
   ]
  },
  {
   "cell_type": "markdown",
   "metadata": {},
   "source": [
    "Analysis:\n",
    "- From external sources, we find that the primary reason why these particular species are endangered is the loss of habitat. Most of these species' habitats are found in swamps or caves, which are declining in number.\n",
    "- It will be interesting to find external dataset that details the habitat of these species and other information for further analysis."
   ]
  },
  {
   "cell_type": "markdown",
   "metadata": {},
   "source": [
    "### 3.3 Category Most At Risk"
   ]
  },
  {
   "cell_type": "code",
   "execution_count": 66,
   "metadata": {},
   "outputs": [
    {
     "data": {
      "text/html": [
       "<div>\n",
       "<style scoped>\n",
       "    .dataframe tbody tr th:only-of-type {\n",
       "        vertical-align: middle;\n",
       "    }\n",
       "\n",
       "    .dataframe tbody tr th {\n",
       "        vertical-align: top;\n",
       "    }\n",
       "\n",
       "    .dataframe thead th {\n",
       "        text-align: right;\n",
       "    }\n",
       "</style>\n",
       "<table border=\"1\" class=\"dataframe\">\n",
       "  <thead>\n",
       "    <tr style=\"text-align: right;\">\n",
       "      <th></th>\n",
       "      <th>scientific_name</th>\n",
       "      <th>common_names</th>\n",
       "      <th>conservation_status</th>\n",
       "    </tr>\n",
       "    <tr>\n",
       "      <th>category</th>\n",
       "      <th></th>\n",
       "      <th></th>\n",
       "      <th></th>\n",
       "    </tr>\n",
       "  </thead>\n",
       "  <tbody>\n",
       "    <tr>\n",
       "      <th>Amphibian</th>\n",
       "      <td>7</td>\n",
       "      <td>7</td>\n",
       "      <td>7</td>\n",
       "    </tr>\n",
       "    <tr>\n",
       "      <th>Bird</th>\n",
       "      <td>72</td>\n",
       "      <td>72</td>\n",
       "      <td>72</td>\n",
       "    </tr>\n",
       "    <tr>\n",
       "      <th>Fish</th>\n",
       "      <td>11</td>\n",
       "      <td>11</td>\n",
       "      <td>11</td>\n",
       "    </tr>\n",
       "    <tr>\n",
       "      <th>Mammal</th>\n",
       "      <td>29</td>\n",
       "      <td>29</td>\n",
       "      <td>29</td>\n",
       "    </tr>\n",
       "    <tr>\n",
       "      <th>Nonvascular Plant</th>\n",
       "      <td>5</td>\n",
       "      <td>5</td>\n",
       "      <td>5</td>\n",
       "    </tr>\n",
       "    <tr>\n",
       "      <th>Reptile</th>\n",
       "      <td>5</td>\n",
       "      <td>5</td>\n",
       "      <td>5</td>\n",
       "    </tr>\n",
       "    <tr>\n",
       "      <th>Vascular Plant</th>\n",
       "      <td>46</td>\n",
       "      <td>46</td>\n",
       "      <td>46</td>\n",
       "    </tr>\n",
       "  </tbody>\n",
       "</table>\n",
       "</div>"
      ],
      "text/plain": [
       "                   scientific_name  common_names  conservation_status\n",
       "category                                                             \n",
       "Amphibian                        7             7                    7\n",
       "Bird                            72            72                   72\n",
       "Fish                            11            11                   11\n",
       "Mammal                          29            29                   29\n",
       "Nonvascular Plant                5             5                    5\n",
       "Reptile                          5             5                    5\n",
       "Vascular Plant                  46            46                   46"
      ]
     },
     "execution_count": 66,
     "metadata": {},
     "output_type": "execute_result"
    }
   ],
   "source": [
    "## Which category is most at risk?\n",
    "endangered = endangered[endangered.conservation_status != \"In Recovery\"]\n",
    "end_group = endangered.groupby(\"category\").count()\n",
    "end_group"
   ]
  },
  {
   "cell_type": "code",
   "execution_count": 67,
   "metadata": {},
   "outputs": [],
   "source": [
    "end_group_pct = []\n",
    "total_count = end_group.conservation_status.sum()\n",
    "\n",
    "end_group_pct.append(round(end_group.conservation_status/total_count * 100, 2))"
   ]
  },
  {
   "cell_type": "code",
   "execution_count": 68,
   "metadata": {},
   "outputs": [],
   "source": [
    "end_group_pct = pd.DataFrame(end_group_pct).T"
   ]
  },
  {
   "cell_type": "code",
   "execution_count": 69,
   "metadata": {},
   "outputs": [
    {
     "data": {
      "text/html": [
       "<div>\n",
       "<style scoped>\n",
       "    .dataframe tbody tr th:only-of-type {\n",
       "        vertical-align: middle;\n",
       "    }\n",
       "\n",
       "    .dataframe tbody tr th {\n",
       "        vertical-align: top;\n",
       "    }\n",
       "\n",
       "    .dataframe thead th {\n",
       "        text-align: right;\n",
       "    }\n",
       "</style>\n",
       "<table border=\"1\" class=\"dataframe\">\n",
       "  <thead>\n",
       "    <tr style=\"text-align: right;\">\n",
       "      <th></th>\n",
       "      <th>conservation_status</th>\n",
       "    </tr>\n",
       "    <tr>\n",
       "      <th>category</th>\n",
       "      <th></th>\n",
       "    </tr>\n",
       "  </thead>\n",
       "  <tbody>\n",
       "    <tr>\n",
       "      <th>Bird</th>\n",
       "      <td>41.14</td>\n",
       "    </tr>\n",
       "    <tr>\n",
       "      <th>Vascular Plant</th>\n",
       "      <td>26.29</td>\n",
       "    </tr>\n",
       "    <tr>\n",
       "      <th>Mammal</th>\n",
       "      <td>16.57</td>\n",
       "    </tr>\n",
       "    <tr>\n",
       "      <th>Fish</th>\n",
       "      <td>6.29</td>\n",
       "    </tr>\n",
       "    <tr>\n",
       "      <th>Amphibian</th>\n",
       "      <td>4.00</td>\n",
       "    </tr>\n",
       "    <tr>\n",
       "      <th>Nonvascular Plant</th>\n",
       "      <td>2.86</td>\n",
       "    </tr>\n",
       "    <tr>\n",
       "      <th>Reptile</th>\n",
       "      <td>2.86</td>\n",
       "    </tr>\n",
       "  </tbody>\n",
       "</table>\n",
       "</div>"
      ],
      "text/plain": [
       "                   conservation_status\n",
       "category                              \n",
       "Bird                             41.14\n",
       "Vascular Plant                   26.29\n",
       "Mammal                           16.57\n",
       "Fish                              6.29\n",
       "Amphibian                         4.00\n",
       "Nonvascular Plant                 2.86\n",
       "Reptile                           2.86"
      ]
     },
     "execution_count": 69,
     "metadata": {},
     "output_type": "execute_result"
    }
   ],
   "source": [
    "end_group_pct = end_group_pct.sort_values(by=[\"conservation_status\"], ascending=False)\n",
    "end_group_pct"
   ]
  },
  {
   "cell_type": "code",
   "execution_count": 70,
   "metadata": {},
   "outputs": [
    {
     "data": {
      "text/plain": [
       "['Bird',\n",
       " 'Vascular Plant',\n",
       " 'Mammal',\n",
       " 'Fish',\n",
       " 'Amphibian',\n",
       " 'Nonvascular Plant',\n",
       " 'Reptile']"
      ]
     },
     "execution_count": 70,
     "metadata": {},
     "output_type": "execute_result"
    }
   ],
   "source": [
    "list(end_group_pct.index)"
   ]
  },
  {
   "cell_type": "code",
   "execution_count": 71,
   "metadata": {},
   "outputs": [
    {
     "data": {
      "image/png": "[encoded data removed]",
      "text/plain": [
       "<Figure size 1400x800 with 1 Axes>"
      ]
     },
     "metadata": {},
     "output_type": "display_data"
    }
   ],
   "source": [
    "categories = list(end_group_pct.index)\n",
    "## Plot Conservation Status\n",
    "fig = plt.figure(figsize=(14,8))\n",
    "ax = fig.add_subplot(111)\n",
    "fig.suptitle(f\"Distribution of Endangered Species by Category\",\n",
    "              fontsize = 20)\n",
    "\n",
    "ax.bar(end_group_pct.index, \n",
    "       end_group_pct.conservation_status,\n",
    "       color=\"steelblue\")\n",
    "\n",
    "ax.set_xticklabels(categories, rotation = 45)\n",
    "ax.set_ylabel(\"Percentage (%)\", fontsize=22, labelpad=20)\n",
    "\n",
    "ax.grid(alpha = 0.7, color='gray', axis=\"y\")\n",
    "ax.spines['left'].set_linewidth(2)\n",
    "ax.spines['bottom'].set_linewidth(2)\n",
    "\n",
    "ax.set_ylim(0, 50)\n",
    "\n",
    "sns.despine(ax=ax)\n",
    "\n",
    "plt.show()"
   ]
  },
  {
   "cell_type": "markdown",
   "metadata": {},
   "source": [
    "Analysis:\n",
    "- Majority of endangered species are birds at 40%, followed by vascular plants (25%) and mammals (16%).\n",
    "- Conservation strategy should be geared towards protecting these species for more efficient use of resources."
   ]
  },
  {
   "cell_type": "markdown",
   "metadata": {},
   "source": [
    "### 3.4 Frequency of Rarest Observation"
   ]
  },
  {
   "cell_type": "code",
   "execution_count": 72,
   "metadata": {},
   "outputs": [],
   "source": [
    "## Which species that are endangered are most rarely sighted?"
   ]
  },
  {
   "cell_type": "code",
   "execution_count": 73,
   "metadata": {},
   "outputs": [
    {
     "data": {
      "text/html": [
       "<div>\n",
       "<style scoped>\n",
       "    .dataframe tbody tr th:only-of-type {\n",
       "        vertical-align: middle;\n",
       "    }\n",
       "\n",
       "    .dataframe tbody tr th {\n",
       "        vertical-align: top;\n",
       "    }\n",
       "\n",
       "    .dataframe thead th {\n",
       "        text-align: right;\n",
       "    }\n",
       "</style>\n",
       "<table border=\"1\" class=\"dataframe\">\n",
       "  <thead>\n",
       "    <tr style=\"text-align: right;\">\n",
       "      <th></th>\n",
       "      <th>scientific_name</th>\n",
       "      <th>park_name</th>\n",
       "      <th>observations</th>\n",
       "      <th>category</th>\n",
       "      <th>common_names</th>\n",
       "      <th>conservation_status</th>\n",
       "    </tr>\n",
       "  </thead>\n",
       "  <tbody>\n",
       "    <tr>\n",
       "      <th>0</th>\n",
       "      <td>Vicia benghalensis</td>\n",
       "      <td>Great Smoky Mountains National Park</td>\n",
       "      <td>68</td>\n",
       "      <td>Vascular Plant</td>\n",
       "      <td>Purple Vetch</td>\n",
       "      <td>Least-concern</td>\n",
       "    </tr>\n",
       "    <tr>\n",
       "      <th>1</th>\n",
       "      <td>Vicia benghalensis</td>\n",
       "      <td>Yosemite National Park</td>\n",
       "      <td>148</td>\n",
       "      <td>Vascular Plant</td>\n",
       "      <td>Purple Vetch</td>\n",
       "      <td>Least-concern</td>\n",
       "    </tr>\n",
       "    <tr>\n",
       "      <th>2</th>\n",
       "      <td>Vicia benghalensis</td>\n",
       "      <td>Yellowstone National Park</td>\n",
       "      <td>247</td>\n",
       "      <td>Vascular Plant</td>\n",
       "      <td>Purple Vetch</td>\n",
       "      <td>Least-concern</td>\n",
       "    </tr>\n",
       "    <tr>\n",
       "      <th>3</th>\n",
       "      <td>Vicia benghalensis</td>\n",
       "      <td>Bryce National Park</td>\n",
       "      <td>104</td>\n",
       "      <td>Vascular Plant</td>\n",
       "      <td>Purple Vetch</td>\n",
       "      <td>Least-concern</td>\n",
       "    </tr>\n",
       "    <tr>\n",
       "      <th>4</th>\n",
       "      <td>Neovison vison</td>\n",
       "      <td>Great Smoky Mountains National Park</td>\n",
       "      <td>77</td>\n",
       "      <td>Mammal</td>\n",
       "      <td>American Mink</td>\n",
       "      <td>Least-concern</td>\n",
       "    </tr>\n",
       "  </tbody>\n",
       "</table>\n",
       "</div>"
      ],
      "text/plain": [
       "      scientific_name                            park_name  observations  \\\n",
       "0  Vicia benghalensis  Great Smoky Mountains National Park            68   \n",
       "1  Vicia benghalensis               Yosemite National Park           148   \n",
       "2  Vicia benghalensis            Yellowstone National Park           247   \n",
       "3  Vicia benghalensis                  Bryce National Park           104   \n",
       "4      Neovison vison  Great Smoky Mountains National Park            77   \n",
       "\n",
       "         category   common_names conservation_status  \n",
       "0  Vascular Plant   Purple Vetch       Least-concern  \n",
       "1  Vascular Plant   Purple Vetch       Least-concern  \n",
       "2  Vascular Plant   Purple Vetch       Least-concern  \n",
       "3  Vascular Plant   Purple Vetch       Least-concern  \n",
       "4          Mammal  American Mink       Least-concern  "
      ]
     },
     "execution_count": 73,
     "metadata": {},
     "output_type": "execute_result"
    }
   ],
   "source": [
    "df.head()"
   ]
  },
  {
   "cell_type": "code",
   "execution_count": 74,
   "metadata": {},
   "outputs": [],
   "source": [
    "endangered = df.copy()\n",
    "endangered = endangered[endangered.conservation_status != \"Least-concern\"]\n",
    "end_group_species = endangered.groupby(endangered.common_names).sum()"
   ]
  },
  {
   "cell_type": "code",
   "execution_count": 75,
   "metadata": {},
   "outputs": [
    {
     "data": {
      "text/plain": [
       "observations    131\n",
       "Name: Whooping Crane, dtype: int64"
      ]
     },
     "execution_count": 75,
     "metadata": {},
     "output_type": "execute_result"
    }
   ],
   "source": [
    "min_index = np.argmin(end_group_species)\n",
    "end_group_species.iloc[min_index]"
   ]
  },
  {
   "cell_type": "code",
   "execution_count": 76,
   "metadata": {},
   "outputs": [
    {
     "data": {
      "text/plain": [
       "observations    503.396648\n",
       "dtype: float64"
      ]
     },
     "execution_count": 76,
     "metadata": {},
     "output_type": "execute_result"
    }
   ],
   "source": [
    "end_group_species.mean()"
   ]
  },
  {
   "cell_type": "code",
   "execution_count": 77,
   "metadata": {},
   "outputs": [
    {
     "data": {
      "text/html": [
       "<div>\n",
       "<style scoped>\n",
       "    .dataframe tbody tr th:only-of-type {\n",
       "        vertical-align: middle;\n",
       "    }\n",
       "\n",
       "    .dataframe tbody tr th {\n",
       "        vertical-align: top;\n",
       "    }\n",
       "\n",
       "    .dataframe thead th {\n",
       "        text-align: right;\n",
       "    }\n",
       "</style>\n",
       "<table border=\"1\" class=\"dataframe\">\n",
       "  <thead>\n",
       "    <tr style=\"text-align: right;\">\n",
       "      <th></th>\n",
       "      <th>observations</th>\n",
       "    </tr>\n",
       "    <tr>\n",
       "      <th>common_names</th>\n",
       "      <th></th>\n",
       "    </tr>\n",
       "  </thead>\n",
       "  <tbody>\n",
       "    <tr>\n",
       "      <th>Abietinella Moss</th>\n",
       "      <td>592</td>\n",
       "    </tr>\n",
       "    <tr>\n",
       "      <th>Aboriginal Milkvetch</th>\n",
       "      <td>564</td>\n",
       "    </tr>\n",
       "    <tr>\n",
       "      <th>Abruptbeak Sedge</th>\n",
       "      <td>606</td>\n",
       "    </tr>\n",
       "    <tr>\n",
       "      <th>Absinth Sagewort</th>\n",
       "      <td>535</td>\n",
       "    </tr>\n",
       "    <tr>\n",
       "      <th>Acadian Flycatcher</th>\n",
       "      <td>549</td>\n",
       "    </tr>\n",
       "    <tr>\n",
       "      <th>...</th>\n",
       "      <td>...</td>\n",
       "    </tr>\n",
       "    <tr>\n",
       "      <th>Yuba Pass Willowherb</th>\n",
       "      <td>524</td>\n",
       "    </tr>\n",
       "    <tr>\n",
       "      <th>Yuma Myotis</th>\n",
       "      <td>538</td>\n",
       "    </tr>\n",
       "    <tr>\n",
       "      <th>Zigzag Larkspur</th>\n",
       "      <td>645</td>\n",
       "    </tr>\n",
       "    <tr>\n",
       "      <th>Zigzag Spiderwort</th>\n",
       "      <td>561</td>\n",
       "    </tr>\n",
       "    <tr>\n",
       "      <th>Zygodon Moss</th>\n",
       "      <td>1251</td>\n",
       "    </tr>\n",
       "  </tbody>\n",
       "</table>\n",
       "<p>5102 rows × 1 columns</p>\n",
       "</div>"
      ],
      "text/plain": [
       "                      observations\n",
       "common_names                      \n",
       "Abietinella Moss               592\n",
       "Aboriginal Milkvetch           564\n",
       "Abruptbeak Sedge               606\n",
       "Absinth Sagewort               535\n",
       "Acadian Flycatcher             549\n",
       "...                            ...\n",
       "Yuba Pass Willowherb           524\n",
       "Yuma Myotis                    538\n",
       "Zigzag Larkspur                645\n",
       "Zigzag Spiderwort              561\n",
       "Zygodon Moss                  1251\n",
       "\n",
       "[5102 rows x 1 columns]"
      ]
     },
     "execution_count": 77,
     "metadata": {},
     "output_type": "execute_result"
    }
   ],
   "source": [
    "all_group = df.groupby(df.common_names).sum()\n",
    "all_group"
   ]
  },
  {
   "cell_type": "markdown",
   "metadata": {},
   "source": [
    "Analysis:\n",
    "- Grus Americana, also known as Whooping Crane is the rarest species spotted. It has been only spotted 131 times compared to the average frequency of 503 for all endangered species."
   ]
  },
  {
   "cell_type": "code",
   "execution_count": 78,
   "metadata": {},
   "outputs": [
    {
     "data": {
      "text/html": [
       "<div>\n",
       "<style scoped>\n",
       "    .dataframe tbody tr th:only-of-type {\n",
       "        vertical-align: middle;\n",
       "    }\n",
       "\n",
       "    .dataframe tbody tr th {\n",
       "        vertical-align: top;\n",
       "    }\n",
       "\n",
       "    .dataframe thead th {\n",
       "        text-align: right;\n",
       "    }\n",
       "</style>\n",
       "<table border=\"1\" class=\"dataframe\">\n",
       "  <thead>\n",
       "    <tr style=\"text-align: right;\">\n",
       "      <th></th>\n",
       "      <th>observations</th>\n",
       "    </tr>\n",
       "    <tr>\n",
       "      <th>common_names</th>\n",
       "      <th></th>\n",
       "    </tr>\n",
       "  </thead>\n",
       "  <tbody>\n",
       "    <tr>\n",
       "      <th>Abietinella Moss</th>\n",
       "      <td>592</td>\n",
       "    </tr>\n",
       "    <tr>\n",
       "      <th>Aboriginal Milkvetch</th>\n",
       "      <td>564</td>\n",
       "    </tr>\n",
       "    <tr>\n",
       "      <th>Abruptbeak Sedge</th>\n",
       "      <td>606</td>\n",
       "    </tr>\n",
       "    <tr>\n",
       "      <th>Absinth Sagewort</th>\n",
       "      <td>535</td>\n",
       "    </tr>\n",
       "    <tr>\n",
       "      <th>Acadian Flycatcher</th>\n",
       "      <td>549</td>\n",
       "    </tr>\n",
       "    <tr>\n",
       "      <th>...</th>\n",
       "      <td>...</td>\n",
       "    </tr>\n",
       "    <tr>\n",
       "      <th>Yosemite Tarweed</th>\n",
       "      <td>594</td>\n",
       "    </tr>\n",
       "    <tr>\n",
       "      <th>Yuba Pass Willowherb</th>\n",
       "      <td>524</td>\n",
       "    </tr>\n",
       "    <tr>\n",
       "      <th>Zigzag Larkspur</th>\n",
       "      <td>645</td>\n",
       "    </tr>\n",
       "    <tr>\n",
       "      <th>Zigzag Spiderwort</th>\n",
       "      <td>561</td>\n",
       "    </tr>\n",
       "    <tr>\n",
       "      <th>Zygodon Moss</th>\n",
       "      <td>1251</td>\n",
       "    </tr>\n",
       "  </tbody>\n",
       "</table>\n",
       "<p>4932 rows × 1 columns</p>\n",
       "</div>"
      ],
      "text/plain": [
       "                      observations\n",
       "common_names                      \n",
       "Abietinella Moss               592\n",
       "Aboriginal Milkvetch           564\n",
       "Abruptbeak Sedge               606\n",
       "Absinth Sagewort               535\n",
       "Acadian Flycatcher             549\n",
       "...                            ...\n",
       "Yosemite Tarweed               594\n",
       "Yuba Pass Willowherb           524\n",
       "Zigzag Larkspur                645\n",
       "Zigzag Spiderwort              561\n",
       "Zygodon Moss                  1251\n",
       "\n",
       "[4932 rows x 1 columns]"
      ]
     },
     "execution_count": 78,
     "metadata": {},
     "output_type": "execute_result"
    }
   ],
   "source": [
    "lc_group = df[df.conservation_status == \"Least-concern\"]\n",
    "lc_group = lc_group.groupby(df.common_names).sum()\n",
    "lc_group"
   ]
  },
  {
   "cell_type": "code",
   "execution_count": 79,
   "metadata": {},
   "outputs": [
    {
     "data": {
      "text/plain": [
       "observations    653.818127\n",
       "dtype: float64"
      ]
     },
     "execution_count": 79,
     "metadata": {},
     "output_type": "execute_result"
    }
   ],
   "source": [
    "lc_group.mean()"
   ]
  },
  {
   "cell_type": "code",
   "execution_count": 80,
   "metadata": {},
   "outputs": [
    {
     "name": "stdout",
     "output_type": "stream",
     "text": [
      "Whooping Crane 131\n",
      "Mountain Avens 162\n",
      "Red Wolf 137\n",
      "Smoky Madtom 143\n",
      "Sierra Nevada Yellow-Legged Frog 144\n",
      "Carolina Plagiomnium Moss 505\n",
      "Northern Pine Snake 470\n"
     ]
    }
   ],
   "source": [
    "frequencies = {}\n",
    "\n",
    "for cat in categories:\n",
    "    temp_df = endangered[endangered.category == cat]\n",
    "    temp_df_group = temp_df.groupby(temp_df.common_names).sum()\n",
    "    min_index = np.argmin(temp_df_group)\n",
    "    name = temp_df_group.iloc[min_index].name\n",
    "    freq = temp_df_group.iloc[min_index].values[0]\n",
    "    avg = round(temp_df_group.mean().values[0],2)\n",
    "    avg_all = round(all_group.mean().values[0],2)\n",
    "    \n",
    "    print(name, freq)\n",
    "    \n",
    "    frequencies[cat] = {\"Name\": name, \n",
    "                        \"Frequency\": freq, \n",
    "                        \"Avg_End\": avg,\n",
    "                        \"Avg_All\": avg_all}\n",
    "\n",
    "frequencies = pd.DataFrame(frequencies).T"
   ]
  },
  {
   "cell_type": "code",
   "execution_count": 81,
   "metadata": {},
   "outputs": [
    {
     "data": {
      "text/html": [
       "<div>\n",
       "<style scoped>\n",
       "    .dataframe tbody tr th:only-of-type {\n",
       "        vertical-align: middle;\n",
       "    }\n",
       "\n",
       "    .dataframe tbody tr th {\n",
       "        vertical-align: top;\n",
       "    }\n",
       "\n",
       "    .dataframe thead th {\n",
       "        text-align: right;\n",
       "    }\n",
       "</style>\n",
       "<table border=\"1\" class=\"dataframe\">\n",
       "  <thead>\n",
       "    <tr style=\"text-align: right;\">\n",
       "      <th></th>\n",
       "      <th>Name</th>\n",
       "      <th>Frequency</th>\n",
       "      <th>Avg_End</th>\n",
       "      <th>Avg_All</th>\n",
       "    </tr>\n",
       "  </thead>\n",
       "  <tbody>\n",
       "    <tr>\n",
       "      <th>Bird</th>\n",
       "      <td>Whooping Crane</td>\n",
       "      <td>131</td>\n",
       "      <td>514.77</td>\n",
       "      <td>649.69</td>\n",
       "    </tr>\n",
       "    <tr>\n",
       "      <th>Vascular Plant</th>\n",
       "      <td>Mountain Avens</td>\n",
       "      <td>162</td>\n",
       "      <td>496.72</td>\n",
       "      <td>649.69</td>\n",
       "    </tr>\n",
       "    <tr>\n",
       "      <th>Mammal</th>\n",
       "      <td>Red Wolf</td>\n",
       "      <td>137</td>\n",
       "      <td>548.3</td>\n",
       "      <td>649.69</td>\n",
       "    </tr>\n",
       "    <tr>\n",
       "      <th>Fish</th>\n",
       "      <td>Smoky Madtom</td>\n",
       "      <td>143</td>\n",
       "      <td>382.64</td>\n",
       "      <td>649.69</td>\n",
       "    </tr>\n",
       "    <tr>\n",
       "      <th>Amphibian</th>\n",
       "      <td>Sierra Nevada Yellow-Legged Frog</td>\n",
       "      <td>144</td>\n",
       "      <td>393.14</td>\n",
       "      <td>649.69</td>\n",
       "    </tr>\n",
       "    <tr>\n",
       "      <th>Nonvascular Plant</th>\n",
       "      <td>Carolina Plagiomnium Moss</td>\n",
       "      <td>505</td>\n",
       "      <td>541.0</td>\n",
       "      <td>649.69</td>\n",
       "    </tr>\n",
       "    <tr>\n",
       "      <th>Reptile</th>\n",
       "      <td>Northern Pine Snake</td>\n",
       "      <td>470</td>\n",
       "      <td>507.2</td>\n",
       "      <td>649.69</td>\n",
       "    </tr>\n",
       "  </tbody>\n",
       "</table>\n",
       "</div>"
      ],
      "text/plain": [
       "                                               Name Frequency Avg_End Avg_All\n",
       "Bird                                 Whooping Crane       131  514.77  649.69\n",
       "Vascular Plant                       Mountain Avens       162  496.72  649.69\n",
       "Mammal                                     Red Wolf       137   548.3  649.69\n",
       "Fish                                   Smoky Madtom       143  382.64  649.69\n",
       "Amphibian          Sierra Nevada Yellow-Legged Frog       144  393.14  649.69\n",
       "Nonvascular Plant         Carolina Plagiomnium Moss       505   541.0  649.69\n",
       "Reptile                         Northern Pine Snake       470   507.2  649.69"
      ]
     },
     "execution_count": 81,
     "metadata": {},
     "output_type": "execute_result"
    }
   ],
   "source": [
    "frequencies"
   ]
  },
  {
   "cell_type": "markdown",
   "metadata": {},
   "source": [
    "Analysis:\n",
    "- The average number of sightings for all species is 650, compared to 503 times for endangered species.   "
   ]
  },
  {
   "cell_type": "code",
   "execution_count": 82,
   "metadata": {},
   "outputs": [
    {
     "data": {
      "image/png": "[encoded data removed]",
      "text/plain": [
       "<Figure size 1400x800 with 1 Axes>"
      ]
     },
     "metadata": {},
     "output_type": "display_data"
    }
   ],
   "source": [
    "end_avg = end_group_species.mean().values[0]\n",
    "lc_avg = lc_group.mean().values[0]\n",
    "\n",
    "## Plot Frequency of Sightings\n",
    "fig = plt.figure(figsize=(14,8))\n",
    "ax = fig.add_subplot(111)\n",
    "fig.suptitle(f\"Frequency of Sightings for Rare Endangered Species by Category\",\n",
    "              fontsize = 20)\n",
    "\n",
    "ax.bar(frequencies.index, \n",
    "       frequencies.Frequency,\n",
    "       align='edge', \n",
    "       width=-0.4,\n",
    "       color=\"steelblue\",\n",
    "       label=\"Most Rare\",\n",
    "       alpha=0.9)\n",
    "\n",
    "ax.bar(frequencies.index, \n",
    "       frequencies.Avg_End,\n",
    "       align='edge', \n",
    "       width=0.4,\n",
    "       color=\"lightslategrey\",\n",
    "       label=\"Average\",\n",
    "       alpha=0.9)\n",
    "\n",
    "ax.set_xticklabels(categories, rotation = 45)\n",
    "ax.set_ylabel(\"Frequency\", fontsize=22, labelpad=20)\n",
    "\n",
    "ax.grid(alpha = 0.7, color='gray', axis=\"y\")\n",
    "ax.spines['left'].set_linewidth(2)\n",
    "ax.spines['bottom'].set_linewidth(2)\n",
    "\n",
    "ax.set_ylim(0, 700)\n",
    "\n",
    "sns.despine(ax=ax)\n",
    "\n",
    "ax.axhline(y= end_avg, color = 'black', lw = 2, ls = \"--\")\n",
    "ax.axhline(y= lc_avg, color = 'tomato', lw = 2, ls = \"--\")\n",
    "\n",
    "ax.annotate(\"Average Frequency for \\nAll Least-Concern Species\", \n",
    "            (-0.5, all_group.mean()),\n",
    "            fontsize=12,\n",
    "            xytext=(12, 12), \n",
    "            textcoords='offset points')\n",
    "\n",
    "ax.annotate(f\"Average Frequency for \\nAll Endangered Species\", \n",
    "            (-0.5, end_group_species.mean()), \n",
    "            fontsize=12,\n",
    "            xytext=(12, 12), \n",
    "            textcoords='offset points')\n",
    "\n",
    "txt=f\"Red Dash Line = Average Frequency for All Least-Concern Species\\nBlack Dash Line = Average Frequency for All Endangered Species\"\n",
    "plt.figtext(0.85, -0.2, txt, wrap=True, horizontalalignment='right', fontsize=12) \n",
    "\n",
    "plt.legend()\n",
    "\n",
    "plt.show()"
   ]
  },
  {
   "cell_type": "markdown",
   "metadata": {},
   "source": [
    "Analysis:\n",
    "- On average, least-concern species are sighted by roughly 150 times more than endangered species (650 vs 500).\n",
    "- Fish and Amphibian Endangered Species are on average, the rarest categories of endangered species spotted overall.\n",
    "- The most rarely spotted bird and mammal are Whooping Crane and Red Wolf, respectively. These species are around 5 times less likely to be spotted than other endangered species in their respective category."
   ]
  },
  {
   "cell_type": "markdown",
   "metadata": {},
   "source": [
    "### 3.5 Most Frequent Sightings by Each Park"
   ]
  },
  {
   "cell_type": "code",
   "execution_count": 83,
   "metadata": {},
   "outputs": [],
   "source": [
    "## Which species were spotted the most at each park?"
   ]
  },
  {
   "cell_type": "code",
   "execution_count": 84,
   "metadata": {},
   "outputs": [
    {
     "name": "stdout",
     "output_type": "stream",
     "text": [
      "Sedge 1390\n",
      "Sedge 2797\n",
      "Sedge 4436\n",
      "Sedge 1770\n"
     ]
    }
   ],
   "source": [
    "parks = list(df.park_name.unique())\n",
    "frequencies = {}\n",
    "\n",
    "for park in parks:\n",
    "    temp_df = df[df.park_name == park]\n",
    "    temp_df_group = temp_df.groupby(temp_df.common_names).sum()\n",
    "    max_index = np.argmax(temp_df_group)\n",
    "    name = temp_df_group.iloc[max_index].name\n",
    "    freq = temp_df_group.iloc[max_index].values[0]\n",
    "    avg = round(temp_df_group.mean().values[0],2)\n",
    "    avg_all = round(all_group.mean().values[0],2)\n",
    "    \n",
    "    print(name, freq)\n",
    "    \n",
    "    frequencies[cat] = {\"Name\": name, \n",
    "                        \"Frequency\": freq, \n",
    "                        \"Avg_End\": avg,\n",
    "                        \"Avg_All\": avg_all}\n",
    "\n",
    "frequencies = pd.DataFrame(frequencies).T"
   ]
  },
  {
   "cell_type": "markdown",
   "metadata": {},
   "source": [
    "Analysis:\n",
    "- The most frequently spotted species in all four national parks is sedge, which is a common grass-like plant. This isn't very interesting so we'll look at the data excluding all plant types (plant types are more likely to be spotted than other categories)."
   ]
  },
  {
   "cell_type": "code",
   "execution_count": 85,
   "metadata": {},
   "outputs": [
    {
     "data": {
      "text/plain": [
       "array(['Mammal', 'Bird', 'Amphibian', 'Reptile', 'Fish'], dtype=object)"
      ]
     },
     "execution_count": 85,
     "metadata": {},
     "output_type": "execute_result"
    }
   ],
   "source": [
    "df_no_plants = df[(df.category != \"Vascular Plant\") &  (df.category != \"Nonvascular Plant\")]\n",
    "df_no_plants.category.unique()"
   ]
  },
  {
   "cell_type": "code",
   "execution_count": 86,
   "metadata": {},
   "outputs": [
    {
     "data": {
      "text/plain": [
       "635.04"
      ]
     },
     "execution_count": 86,
     "metadata": {},
     "output_type": "execute_result"
    }
   ],
   "source": [
    "avg_all_no_plants = round(np.mean(df_no_plants.groupby(df_no_plants.common_names).sum()), 2)\n",
    "avg_all_no_plants = avg_all_no_plants.values[0]\n",
    "avg_all_no_plants"
   ]
  },
  {
   "cell_type": "code",
   "execution_count": 87,
   "metadata": {},
   "outputs": [
    {
     "name": "stdout",
     "output_type": "stream",
     "text": [
      "Great Smoky Mountains National Park :  Uinta Chipmunk ,  Mammal ,  261\n",
      "Yosemite National Park :  American Beaver ,  Mammal ,  501\n",
      "Yellowstone National Park :  Eurasian Collared-Dove ,  Bird ,  771\n",
      "Bryce National Park :  Rock Dove ,  Bird ,  339\n"
     ]
    }
   ],
   "source": [
    "frequencies = {}\n",
    "avg_all = np.mean(df_no_plants.groupby(df_no_plants.common_names).sum())\n",
    "\n",
    "for park in parks:\n",
    "    temp_df = df_no_plants[df_no_plants.park_name == park]\n",
    "    temp_df_group = temp_df.groupby(temp_df.common_names).sum()\n",
    "    max_index = np.argmax(temp_df_group)\n",
    "    name = temp_df_group.iloc[max_index].name\n",
    "    freq = temp_df_group.iloc[max_index].values[0]\n",
    "    cat = species.category[species.common_names == name].values[0]\n",
    "    avg = round(temp_df_group.mean().values[0],2)\n",
    "    avg_all = round(all_group.mean().values[0],2)\n",
    "    \n",
    "    print(park, \": \", name, \", \", cat,  \", \", freq)\n",
    "    \n",
    "    frequencies[park] = {\"Name\": name, \n",
    "                        \"Category\": cat,\n",
    "                        \"Frequency\": freq, \n",
    "                        \"Avg_Park\": avg,\n",
    "                        \"Avg_All\": avg_all_no_plants}\n",
    "\n",
    "frequencies = pd.DataFrame(frequencies).T"
   ]
  },
  {
   "cell_type": "code",
   "execution_count": 88,
   "metadata": {},
   "outputs": [
    {
     "data": {
      "text/html": [
       "<div>\n",
       "<style scoped>\n",
       "    .dataframe tbody tr th:only-of-type {\n",
       "        vertical-align: middle;\n",
       "    }\n",
       "\n",
       "    .dataframe tbody tr th {\n",
       "        vertical-align: top;\n",
       "    }\n",
       "\n",
       "    .dataframe thead th {\n",
       "        text-align: right;\n",
       "    }\n",
       "</style>\n",
       "<table border=\"1\" class=\"dataframe\">\n",
       "  <thead>\n",
       "    <tr style=\"text-align: right;\">\n",
       "      <th></th>\n",
       "      <th>Name</th>\n",
       "      <th>Category</th>\n",
       "      <th>Frequency</th>\n",
       "      <th>Avg_Park</th>\n",
       "      <th>Avg_All</th>\n",
       "    </tr>\n",
       "  </thead>\n",
       "  <tbody>\n",
       "    <tr>\n",
       "      <th>Great Smoky Mountains National Park</th>\n",
       "      <td>Uinta Chipmunk</td>\n",
       "      <td>Mammal</td>\n",
       "      <td>261</td>\n",
       "      <td>81.86</td>\n",
       "      <td>635.04</td>\n",
       "    </tr>\n",
       "    <tr>\n",
       "      <th>Yosemite National Park</th>\n",
       "      <td>American Beaver</td>\n",
       "      <td>Mammal</td>\n",
       "      <td>501</td>\n",
       "      <td>165.28</td>\n",
       "      <td>635.04</td>\n",
       "    </tr>\n",
       "    <tr>\n",
       "      <th>Yellowstone National Park</th>\n",
       "      <td>Eurasian Collared-Dove</td>\n",
       "      <td>Bird</td>\n",
       "      <td>771</td>\n",
       "      <td>276.35</td>\n",
       "      <td>635.04</td>\n",
       "    </tr>\n",
       "    <tr>\n",
       "      <th>Bryce National Park</th>\n",
       "      <td>Rock Dove</td>\n",
       "      <td>Bird</td>\n",
       "      <td>339</td>\n",
       "      <td>111.55</td>\n",
       "      <td>635.04</td>\n",
       "    </tr>\n",
       "  </tbody>\n",
       "</table>\n",
       "</div>"
      ],
      "text/plain": [
       "                                                       Name Category  \\\n",
       "Great Smoky Mountains National Park          Uinta Chipmunk   Mammal   \n",
       "Yosemite National Park                      American Beaver   Mammal   \n",
       "Yellowstone National Park            Eurasian Collared-Dove     Bird   \n",
       "Bryce National Park                               Rock Dove     Bird   \n",
       "\n",
       "                                    Frequency Avg_Park Avg_All  \n",
       "Great Smoky Mountains National Park       261    81.86  635.04  \n",
       "Yosemite National Park                    501   165.28  635.04  \n",
       "Yellowstone National Park                 771   276.35  635.04  \n",
       "Bryce National Park                       339   111.55  635.04  "
      ]
     },
     "execution_count": 88,
     "metadata": {},
     "output_type": "execute_result"
    }
   ],
   "source": [
    "frequencies"
   ]
  },
  {
   "cell_type": "code",
   "execution_count": 89,
   "metadata": {},
   "outputs": [],
   "source": [
    "parks = [f'Great Smoky Mountains\\nNational Park',\n",
    "         f'Yosemite\\nNational Park',\n",
    "         f'Yellowstone\\nNational Park',\n",
    "         f'Bryce National Park']"
   ]
  },
  {
   "cell_type": "code",
   "execution_count": 90,
   "metadata": {},
   "outputs": [
    {
     "data": {
      "image/png": "[encoded data removed]",
      "text/plain": [
       "<Figure size 1400x800 with 1 Axes>"
      ]
     },
     "metadata": {},
     "output_type": "display_data"
    }
   ],
   "source": [
    "park_avg = frequencies.Avg_Park.mean()\n",
    "\n",
    "## Plot Frequency of Sightings\n",
    "fig = plt.figure(figsize=(14,8))\n",
    "ax = fig.add_subplot(111)\n",
    "fig.suptitle(f\"Frequency of Most Common Sightings by National Park\",\n",
    "              fontsize = 20)\n",
    "\n",
    "ax.bar(parks, \n",
    "       frequencies.Frequency,\n",
    "       align='edge', \n",
    "       width=-0.4,\n",
    "       color=\"steelblue\",\n",
    "       label=\"Most Common\",\n",
    "       alpha=0.9)\n",
    "\n",
    "ax.bar(parks, \n",
    "       frequencies.Avg_Park,\n",
    "       align='edge', \n",
    "       width=0.4,\n",
    "       color=\"lightslategrey\",\n",
    "       label=\"Park Average\",\n",
    "       alpha=0.9)\n",
    "\n",
    "ax.set_xticklabels(parks, rotation = 0)\n",
    "ax.set_ylabel(\"Frequency\", fontsize=22, labelpad=20)\n",
    "\n",
    "ax.grid(alpha = 0.7, color='gray', axis=\"y\")\n",
    "ax.spines['left'].set_linewidth(2)\n",
    "ax.spines['bottom'].set_linewidth(2)\n",
    "\n",
    "ax.set_ylim(0, 800)\n",
    "\n",
    "sns.despine(ax=ax)\n",
    "\n",
    "ax.axhline(y= park_avg, color = 'black', lw = 2, ls = \"--\")\n",
    "\n",
    "ax.annotate(\"Average Frequency for \\nAll Parks\", \n",
    "            (2.8, park_avg),\n",
    "            fontsize=12,\n",
    "            xytext=(12, 12), \n",
    "            textcoords='offset points')\n",
    "\n",
    "\n",
    "txt=f\"Black Dash Line = Average of Average Frequency for All Parks\"\n",
    "plt.figtext(0.85, 0, txt, wrap=True, horizontalalignment='right', fontsize=12) \n",
    "\n",
    "plt.legend()\n",
    "\n",
    "plt.show()"
   ]
  },
  {
   "cell_type": "markdown",
   "metadata": {},
   "source": [
    "Analysis:\n",
    "- Yellowstone has the highest average number of sightings per species followed by Yosemite. Coincidentally, these two parks are the largest parks of the four in the data.\n",
    "- The most frequently sigted species is called Eurasian-collared dove at the Yellowstone National Park, which is sighted by roughly 2.5 times more than the average number of sightings at the park.\n",
    "- Interestingly, Bryce National Park has a higher average number of sightings per species than Great Smoky Mountains National Park, although the size of Bryce National Park is smaller than Great Smoky Mountains National Park. This could be due to the difference in their habitat type. In other words, Bryce National Park's habitat provides more biodiversity especially for least-concern species that are commonly sighted than Great Smoky Mountains."
   ]
  },
  {
   "cell_type": "markdown",
   "metadata": {},
   "source": [
    "### 3.6 Hypothesis Testing - Difference Between Categoreis and Their Conservation Status"
   ]
  },
  {
   "cell_type": "code",
   "execution_count": 91,
   "metadata": {},
   "outputs": [],
   "source": [
    "## Are the differences between categories and their conservation status significant?"
   ]
  },
  {
   "cell_type": "markdown",
   "metadata": {},
   "source": [
    "We will perform Chi-squared tests (using chi2-contingency function) to test whether there are any significant differences between categories and their conservation status.\n",
    "<br><br>\n",
    "Here are the hypotheses:\n",
    "- Null Hypothesis: There are no significant differences between the categories.\n",
    "- Alternative: There are significant differences between the categories. "
   ]
  },
  {
   "cell_type": "code",
   "execution_count": 92,
   "metadata": {},
   "outputs": [
    {
     "data": {
      "text/html": [
       "<div>\n",
       "<style scoped>\n",
       "    .dataframe tbody tr th:only-of-type {\n",
       "        vertical-align: middle;\n",
       "    }\n",
       "\n",
       "    .dataframe tbody tr th {\n",
       "        vertical-align: top;\n",
       "    }\n",
       "\n",
       "    .dataframe thead th {\n",
       "        text-align: right;\n",
       "    }\n",
       "</style>\n",
       "<table border=\"1\" class=\"dataframe\">\n",
       "  <thead>\n",
       "    <tr style=\"text-align: right;\">\n",
       "      <th></th>\n",
       "      <th>category</th>\n",
       "      <th>scientific_name</th>\n",
       "      <th>common_names</th>\n",
       "      <th>conservation_status</th>\n",
       "    </tr>\n",
       "  </thead>\n",
       "  <tbody>\n",
       "    <tr>\n",
       "      <th>0</th>\n",
       "      <td>Mammal</td>\n",
       "      <td>Clethrionomys gapperi gapperi</td>\n",
       "      <td>Gapper's Red-Backed Vole</td>\n",
       "      <td>Least-concern</td>\n",
       "    </tr>\n",
       "    <tr>\n",
       "      <th>1</th>\n",
       "      <td>Mammal</td>\n",
       "      <td>Bos bison</td>\n",
       "      <td>American Bison</td>\n",
       "      <td>Least-concern</td>\n",
       "    </tr>\n",
       "    <tr>\n",
       "      <th>2</th>\n",
       "      <td>Mammal</td>\n",
       "      <td>Bos taurus</td>\n",
       "      <td>Aurochs</td>\n",
       "      <td>Least-concern</td>\n",
       "    </tr>\n",
       "    <tr>\n",
       "      <th>3</th>\n",
       "      <td>Mammal</td>\n",
       "      <td>Ovis aries</td>\n",
       "      <td>Domestic Sheep</td>\n",
       "      <td>Least-concern</td>\n",
       "    </tr>\n",
       "    <tr>\n",
       "      <th>4</th>\n",
       "      <td>Mammal</td>\n",
       "      <td>Cervus elaphus</td>\n",
       "      <td>Wapiti</td>\n",
       "      <td>Least-concern</td>\n",
       "    </tr>\n",
       "    <tr>\n",
       "      <th>...</th>\n",
       "      <td>...</td>\n",
       "      <td>...</td>\n",
       "      <td>...</td>\n",
       "      <td>...</td>\n",
       "    </tr>\n",
       "    <tr>\n",
       "      <th>5536</th>\n",
       "      <td>Vascular Plant</td>\n",
       "      <td>Solanum parishii</td>\n",
       "      <td>Parish's Nightshade</td>\n",
       "      <td>Least-concern</td>\n",
       "    </tr>\n",
       "    <tr>\n",
       "      <th>5537</th>\n",
       "      <td>Vascular Plant</td>\n",
       "      <td>Solanum xanti</td>\n",
       "      <td>Chaparral Nightshade</td>\n",
       "      <td>Least-concern</td>\n",
       "    </tr>\n",
       "    <tr>\n",
       "      <th>5538</th>\n",
       "      <td>Vascular Plant</td>\n",
       "      <td>Parthenocissus vitacea</td>\n",
       "      <td>Thicket Creeper</td>\n",
       "      <td>Least-concern</td>\n",
       "    </tr>\n",
       "    <tr>\n",
       "      <th>5539</th>\n",
       "      <td>Vascular Plant</td>\n",
       "      <td>Vitis californica</td>\n",
       "      <td>California Grape</td>\n",
       "      <td>Least-concern</td>\n",
       "    </tr>\n",
       "    <tr>\n",
       "      <th>5540</th>\n",
       "      <td>Vascular Plant</td>\n",
       "      <td>Tribulus terrestris</td>\n",
       "      <td>Bullhead</td>\n",
       "      <td>Least-concern</td>\n",
       "    </tr>\n",
       "  </tbody>\n",
       "</table>\n",
       "<p>5541 rows × 4 columns</p>\n",
       "</div>"
      ],
      "text/plain": [
       "            category                scientific_name              common_names  \\\n",
       "0             Mammal  Clethrionomys gapperi gapperi  Gapper's Red-Backed Vole   \n",
       "1             Mammal                      Bos bison            American Bison   \n",
       "2             Mammal                     Bos taurus                   Aurochs   \n",
       "3             Mammal                     Ovis aries            Domestic Sheep   \n",
       "4             Mammal                 Cervus elaphus                    Wapiti   \n",
       "...              ...                            ...                       ...   \n",
       "5536  Vascular Plant               Solanum parishii       Parish's Nightshade   \n",
       "5537  Vascular Plant                  Solanum xanti      Chaparral Nightshade   \n",
       "5538  Vascular Plant         Parthenocissus vitacea           Thicket Creeper   \n",
       "5539  Vascular Plant              Vitis californica          California Grape   \n",
       "5540  Vascular Plant            Tribulus terrestris                  Bullhead   \n",
       "\n",
       "     conservation_status  \n",
       "0          Least-concern  \n",
       "1          Least-concern  \n",
       "2          Least-concern  \n",
       "3          Least-concern  \n",
       "4          Least-concern  \n",
       "...                  ...  \n",
       "5536       Least-concern  \n",
       "5537       Least-concern  \n",
       "5538       Least-concern  \n",
       "5539       Least-concern  \n",
       "5540       Least-concern  \n",
       "\n",
       "[5541 rows x 4 columns]"
      ]
     },
     "execution_count": 92,
     "metadata": {},
     "output_type": "execute_result"
    }
   ],
   "source": [
    "temp_df = species.copy()\n",
    "temp_df"
   ]
  },
  {
   "cell_type": "code",
   "execution_count": 93,
   "metadata": {},
   "outputs": [],
   "source": [
    "count_dict = {}\n",
    "categories = list(temp_df.category)\n",
    "\n",
    "for cat in categories:\n",
    "    temp = temp_df.conservation_status[temp_df.category == cat]\n",
    "    total_count = len(temp)\n",
    "    temp = list(temp.values)\n",
    "    lc = temp.count(\"Least-concern\")\n",
    "    end_count = total_count - lc\n",
    "    count_dict[cat] = {\"total\": total_count,\n",
    "                       \"lc\": lc,\n",
    "                       \"endangered\": end_count}"
   ]
  },
  {
   "cell_type": "code",
   "execution_count": 94,
   "metadata": {},
   "outputs": [
    {
     "data": {
      "text/html": [
       "<div>\n",
       "<style scoped>\n",
       "    .dataframe tbody tr th:only-of-type {\n",
       "        vertical-align: middle;\n",
       "    }\n",
       "\n",
       "    .dataframe tbody tr th {\n",
       "        vertical-align: top;\n",
       "    }\n",
       "\n",
       "    .dataframe thead th {\n",
       "        text-align: right;\n",
       "    }\n",
       "</style>\n",
       "<table border=\"1\" class=\"dataframe\">\n",
       "  <thead>\n",
       "    <tr style=\"text-align: right;\">\n",
       "      <th></th>\n",
       "      <th>total</th>\n",
       "      <th>lc</th>\n",
       "      <th>endangered</th>\n",
       "    </tr>\n",
       "  </thead>\n",
       "  <tbody>\n",
       "    <tr>\n",
       "      <th>Mammal</th>\n",
       "      <td>176</td>\n",
       "      <td>146</td>\n",
       "      <td>30</td>\n",
       "    </tr>\n",
       "    <tr>\n",
       "      <th>Bird</th>\n",
       "      <td>488</td>\n",
       "      <td>413</td>\n",
       "      <td>75</td>\n",
       "    </tr>\n",
       "    <tr>\n",
       "      <th>Reptile</th>\n",
       "      <td>78</td>\n",
       "      <td>73</td>\n",
       "      <td>5</td>\n",
       "    </tr>\n",
       "    <tr>\n",
       "      <th>Amphibian</th>\n",
       "      <td>79</td>\n",
       "      <td>72</td>\n",
       "      <td>7</td>\n",
       "    </tr>\n",
       "    <tr>\n",
       "      <th>Fish</th>\n",
       "      <td>125</td>\n",
       "      <td>114</td>\n",
       "      <td>11</td>\n",
       "    </tr>\n",
       "    <tr>\n",
       "      <th>Vascular Plant</th>\n",
       "      <td>4262</td>\n",
       "      <td>4216</td>\n",
       "      <td>46</td>\n",
       "    </tr>\n",
       "    <tr>\n",
       "      <th>Nonvascular Plant</th>\n",
       "      <td>333</td>\n",
       "      <td>328</td>\n",
       "      <td>5</td>\n",
       "    </tr>\n",
       "  </tbody>\n",
       "</table>\n",
       "</div>"
      ],
      "text/plain": [
       "                   total    lc  endangered\n",
       "Mammal               176   146          30\n",
       "Bird                 488   413          75\n",
       "Reptile               78    73           5\n",
       "Amphibian             79    72           7\n",
       "Fish                 125   114          11\n",
       "Vascular Plant      4262  4216          46\n",
       "Nonvascular Plant    333   328           5"
      ]
     },
     "execution_count": 94,
     "metadata": {},
     "output_type": "execute_result"
    }
   ],
   "source": [
    "count_df = pd.DataFrame(count_dict).T\n",
    "count_df"
   ]
  },
  {
   "cell_type": "markdown",
   "metadata": {},
   "source": [
    "We will be conducting multiple (21) tests, so we need to adjust our p-value to reduce the probability of false positive. Here we will use a Bonferroni correction, so the adjusted p-value is around 0.0025."
   ]
  },
  {
   "cell_type": "code",
   "execution_count": 95,
   "metadata": {
    "scrolled": false
   },
   "outputs": [
    {
     "name": "stdout",
     "output_type": "stream",
     "text": [
      "Mammal vs Vascular Plant p-value =  1.44e-55\n",
      "Mammal are statistically different than Vascular Plant\n",
      "\n",
      "Mammal vs Nonvascular Plant p-value =  1.48e-10\n",
      "Mammal are statistically different than Nonvascular Plant\n",
      "\n",
      "\n",
      "\n",
      "Bird vs Vascular Plant p-value =  4.61e-79\n",
      "Bird are statistically different than Vascular Plant\n",
      "\n",
      "Bird vs Nonvascular Plant p-value =  1.05e-10\n",
      "Bird are statistically different than Nonvascular Plant\n",
      "\n",
      "\n",
      "\n",
      "Reptile vs Vascular Plant p-value =  0.000145\n",
      "Reptile are statistically different than Vascular Plant\n",
      "\n",
      "\n",
      "\n",
      "Amphibian vs Vascular Plant p-value =  1.04e-08\n",
      "Amphibian are statistically different than Vascular Plant\n",
      "\n",
      "Amphibian vs Nonvascular Plant p-value =  0.00178\n",
      "Amphibian are statistically different than Nonvascular Plant\n",
      "\n",
      "\n",
      "\n",
      "Fish vs Vascular Plant p-value =  1.14e-12\n",
      "Fish are statistically different than Vascular Plant\n",
      "\n",
      "Fish vs Nonvascular Plant p-value =  0.000459\n",
      "Fish are statistically different than Nonvascular Plant\n",
      "\n",
      "\n",
      "\n",
      "\n",
      "\n",
      "\n",
      "\n"
     ]
    }
   ],
   "source": [
    "pvalue = 0.0025\n",
    "contingency = {}\n",
    "\n",
    "for i in range(len(count_df)):\n",
    "    lc1 = count_df.lc.iloc[i]\n",
    "    end1 = count_df.endangered.iloc[i]\n",
    "    cat1 = count_df.index[i]\n",
    "    contingency[cat1] = {}\n",
    "    \n",
    "    for j in range(i+1, len(count_df)):\n",
    "        if i == j:\n",
    "            pass\n",
    "        else:\n",
    "            lc2 = count_df.lc.iloc[j]\n",
    "            end2 = count_df.endangered.iloc[j]\n",
    "            cat2 = count_df.index[j]\n",
    "    \n",
    "            _, pval,_,_ = chi2_contingency([[lc1, end1], [lc2, end2]])\n",
    "            \n",
    "            if pval <= pvalue:\n",
    "                print(f\"{cat1} vs {cat2} p-value = \", f\"{pval:.3}\")\n",
    "                print(f\"{cat1} are statistically different than {cat2}\\n\")\n",
    "\n",
    "            contingency[cat1][cat2] = pval\n",
    "    print(\"\\n\")"
   ]
  },
  {
   "cell_type": "code",
   "execution_count": 96,
   "metadata": {},
   "outputs": [],
   "source": [
    "contingency = pd.DataFrame(contingency)\n",
    "contingency = contingency.drop([\"Nonvascular Plant\"], axis=1)"
   ]
  },
  {
   "cell_type": "code",
   "execution_count": 97,
   "metadata": {},
   "outputs": [
    {
     "data": {
      "text/html": [
       "<div>\n",
       "<style scoped>\n",
       "    .dataframe tbody tr th:only-of-type {\n",
       "        vertical-align: middle;\n",
       "    }\n",
       "\n",
       "    .dataframe tbody tr th {\n",
       "        vertical-align: top;\n",
       "    }\n",
       "\n",
       "    .dataframe thead th {\n",
       "        text-align: right;\n",
       "    }\n",
       "</style>\n",
       "<table border=\"1\" class=\"dataframe\">\n",
       "  <thead>\n",
       "    <tr style=\"text-align: right;\">\n",
       "      <th></th>\n",
       "      <th>Mammal</th>\n",
       "      <th>Bird</th>\n",
       "      <th>Reptile</th>\n",
       "      <th>Amphibian</th>\n",
       "      <th>Fish</th>\n",
       "      <th>Vascular Plant</th>\n",
       "    </tr>\n",
       "  </thead>\n",
       "  <tbody>\n",
       "    <tr>\n",
       "      <th>Bird</th>\n",
       "      <td>6.875948e-01</td>\n",
       "      <td>NaN</td>\n",
       "      <td>NaN</td>\n",
       "      <td>NaN</td>\n",
       "      <td>NaN</td>\n",
       "      <td>NaN</td>\n",
       "    </tr>\n",
       "    <tr>\n",
       "      <th>Reptile</th>\n",
       "      <td>3.835559e-02</td>\n",
       "      <td>5.313542e-02</td>\n",
       "      <td>NaN</td>\n",
       "      <td>NaN</td>\n",
       "      <td>NaN</td>\n",
       "      <td>NaN</td>\n",
       "    </tr>\n",
       "    <tr>\n",
       "      <th>Amphibian</th>\n",
       "      <td>1.275767e-01</td>\n",
       "      <td>1.759361e-01</td>\n",
       "      <td>0.781450</td>\n",
       "      <td>NaN</td>\n",
       "      <td>NaN</td>\n",
       "      <td>NaN</td>\n",
       "    </tr>\n",
       "    <tr>\n",
       "      <th>Fish</th>\n",
       "      <td>5.948567e-02</td>\n",
       "      <td>8.142211e-02</td>\n",
       "      <td>0.728675</td>\n",
       "      <td>1.000000e+00</td>\n",
       "      <td>NaN</td>\n",
       "      <td>NaN</td>\n",
       "    </tr>\n",
       "    <tr>\n",
       "      <th>Vascular Plant</th>\n",
       "      <td>1.440507e-55</td>\n",
       "      <td>4.612268e-79</td>\n",
       "      <td>0.000145</td>\n",
       "      <td>1.044136e-08</td>\n",
       "      <td>1.139913e-12</td>\n",
       "      <td>NaN</td>\n",
       "    </tr>\n",
       "    <tr>\n",
       "      <th>Nonvascular Plant</th>\n",
       "      <td>1.481869e-10</td>\n",
       "      <td>1.054631e-10</td>\n",
       "      <td>0.033627</td>\n",
       "      <td>1.778555e-03</td>\n",
       "      <td>4.587125e-04</td>\n",
       "      <td>0.662342</td>\n",
       "    </tr>\n",
       "  </tbody>\n",
       "</table>\n",
       "</div>"
      ],
      "text/plain": [
       "                         Mammal          Bird   Reptile     Amphibian  \\\n",
       "Bird               6.875948e-01           NaN       NaN           NaN   \n",
       "Reptile            3.835559e-02  5.313542e-02       NaN           NaN   \n",
       "Amphibian          1.275767e-01  1.759361e-01  0.781450           NaN   \n",
       "Fish               5.948567e-02  8.142211e-02  0.728675  1.000000e+00   \n",
       "Vascular Plant     1.440507e-55  4.612268e-79  0.000145  1.044136e-08   \n",
       "Nonvascular Plant  1.481869e-10  1.054631e-10  0.033627  1.778555e-03   \n",
       "\n",
       "                           Fish  Vascular Plant  \n",
       "Bird                        NaN             NaN  \n",
       "Reptile                     NaN             NaN  \n",
       "Amphibian                   NaN             NaN  \n",
       "Fish                        NaN             NaN  \n",
       "Vascular Plant     1.139913e-12             NaN  \n",
       "Nonvascular Plant  4.587125e-04        0.662342  "
      ]
     },
     "execution_count": 97,
     "metadata": {},
     "output_type": "execute_result"
    }
   ],
   "source": [
    "contingency"
   ]
  },
  {
   "cell_type": "code",
   "execution_count": 98,
   "metadata": {},
   "outputs": [],
   "source": [
    "mask = np.zeros_like(contingency)"
   ]
  },
  {
   "cell_type": "code",
   "execution_count": 99,
   "metadata": {},
   "outputs": [
    {
     "data": {
      "image/png": "[encoded data removed]",
      "text/plain": [
       "<Figure size 1200x600 with 1 Axes>"
      ]
     },
     "metadata": {},
     "output_type": "display_data"
    }
   ],
   "source": [
    "## Heatmap\n",
    "with sns.axes_style(\"white\"):\n",
    "    fig, ax = plt.subplots(figsize=(12,6))\n",
    "\n",
    "    my_colors = sns.color_palette(\"Blues_r\", 2)\n",
    "    my_cmap = ListedColormap(my_colors)\n",
    "    bounds = np.linspace(0,0.0025,2)\n",
    "    my_norm = BoundaryNorm(bounds, ncolors=len(my_colors))\n",
    "\n",
    "    plt.title(\"Heatmap of Statistical Difference Between Species\\nAnd Their Conservation Status\", \n",
    "              fontsize = 16, pad=20)\n",
    "\n",
    "    sns.heatmap(contingency,\n",
    "                cmap=my_cmap,\n",
    "                norm=my_norm,\n",
    "                cbar=False,\n",
    "                linewidths=.5,\n",
    "                square=True,\n",
    "                mask=mask)\n",
    "    \n",
    "    plt.xticks(rotation = 90)\n",
    "    \n",
    "    txt=f\"Dark blue indicates statistically significant\\ndifference between the categories (p <= 0.05)\"\n",
    "    plt.figtext(0.75, -0.35, txt, wrap=True, horizontalalignment='right', fontsize=12) \n",
    "\n",
    "plt.show()"
   ]
  },
  {
   "cell_type": "markdown",
   "metadata": {},
   "source": [
    "Analysis:\n",
    "- Vascular and nonvascular plants are statistically different to all other species (except reptile vs nonvascular plant). There is no statistical difference between the two plant types."
   ]
  },
  {
   "cell_type": "markdown",
   "metadata": {},
   "source": [
    "What about individual category vesrsus all species combined (whole population)?\n",
    "<br><br>\n",
    "Here are the hypotheses:\n",
    "\n",
    "- Null Hypothesis: There are no significant differences between the this category and the population.\n",
    "- Alternative: There are significant differences between the category and the population.\n",
    "<br><br>\n",
    "Also, if the null hypothesis is rejected, and number of endangered exceeds the expected number of endangered for the population, then the species is more likely to be endangered than the population. If it's less, than it is less likely to be endangered."
   ]
  },
  {
   "cell_type": "markdown",
   "metadata": {},
   "source": [
    "We will be conducting 7 tests, so the adjusted p-value is 0.007"
   ]
  },
  {
   "cell_type": "code",
   "execution_count": 100,
   "metadata": {},
   "outputs": [],
   "source": [
    "total_count = species.shape[0]\n",
    "lc_total_count = species.common_names[species.conservation_status == \"Least-concern\"].count()\n",
    "end_total_count = total_count - lc_total_count"
   ]
  },
  {
   "cell_type": "code",
   "execution_count": 101,
   "metadata": {},
   "outputs": [
    {
     "name": "stdout",
     "output_type": "stream",
     "text": [
      "Mammal vs Population p-value =  4.95e-21\n",
      "Mammal are statistically different than the population.\n",
      "\n",
      "Mammal are MORE likely to be endangered than the population\n",
      "\n",
      "\n",
      "Bird vs Population p-value =  7.72e-37\n",
      "Bird are statistically different than the population.\n",
      "\n",
      "Bird are MORE likely to be endangered than the population\n",
      "\n",
      "\n",
      "\n",
      "\n",
      "\n",
      "\n",
      "Fish vs Population p-value =  0.00153\n",
      "Fish are statistically different than the population.\n",
      "\n",
      "Fish are MORE likely to be endangered than the population\n",
      "\n",
      "\n",
      "Vascular Plant vs Population p-value =  2.9e-12\n",
      "Vascular Plant are statistically different than the population.\n",
      "\n",
      "Vascular Plant are LESS likely to be endangered than the population\n",
      "\n",
      "\n",
      "\n",
      "\n"
     ]
    }
   ],
   "source": [
    "pvalue = 0.007\n",
    "contingency = {}\n",
    "\n",
    "for i in range(len(count_df)):\n",
    "    x = 0\n",
    "    lc1 = count_df.lc.iloc[i]\n",
    "    end1 = count_df.endangered.iloc[i]\n",
    "    cat1 = count_df.index[i]\n",
    "    \n",
    "    _, pval,_,exp= chi2_contingency([[lc1, end1], [lc_total_count, end_total_count]])\n",
    "            \n",
    "    if pval <= pvalue:\n",
    "        print(f\"{cat1} vs Population p-value = \", f\"{pval:.3}\")\n",
    "        print(f\"{cat1} are statistically different than the population.\\n\")\n",
    "        \n",
    "        if end1 >= exp[0][1]:\n",
    "            print(f\"{cat1} are MORE likely to be endangered than the population\")\n",
    "            x = 1\n",
    "        else:\n",
    "            print(f\"{cat1} are LESS likely to be endangered than the population\")\n",
    "            x = -2\n",
    "                  \n",
    "    contingency[cat1] = {\"x\":x}\n",
    "    print(\"\\n\")"
   ]
  },
  {
   "cell_type": "code",
   "execution_count": 102,
   "metadata": {},
   "outputs": [],
   "source": [
    "contingency = pd.DataFrame(contingency).T"
   ]
  },
  {
   "cell_type": "code",
   "execution_count": 103,
   "metadata": {},
   "outputs": [
    {
     "data": {
      "text/html": [
       "<div>\n",
       "<style scoped>\n",
       "    .dataframe tbody tr th:only-of-type {\n",
       "        vertical-align: middle;\n",
       "    }\n",
       "\n",
       "    .dataframe tbody tr th {\n",
       "        vertical-align: top;\n",
       "    }\n",
       "\n",
       "    .dataframe thead th {\n",
       "        text-align: right;\n",
       "    }\n",
       "</style>\n",
       "<table border=\"1\" class=\"dataframe\">\n",
       "  <thead>\n",
       "    <tr style=\"text-align: right;\">\n",
       "      <th></th>\n",
       "      <th>x</th>\n",
       "    </tr>\n",
       "  </thead>\n",
       "  <tbody>\n",
       "    <tr>\n",
       "      <th>Mammal</th>\n",
       "      <td>1</td>\n",
       "    </tr>\n",
       "    <tr>\n",
       "      <th>Bird</th>\n",
       "      <td>1</td>\n",
       "    </tr>\n",
       "    <tr>\n",
       "      <th>Reptile</th>\n",
       "      <td>0</td>\n",
       "    </tr>\n",
       "    <tr>\n",
       "      <th>Amphibian</th>\n",
       "      <td>0</td>\n",
       "    </tr>\n",
       "    <tr>\n",
       "      <th>Fish</th>\n",
       "      <td>1</td>\n",
       "    </tr>\n",
       "    <tr>\n",
       "      <th>Vascular Plant</th>\n",
       "      <td>-2</td>\n",
       "    </tr>\n",
       "    <tr>\n",
       "      <th>Nonvascular Plant</th>\n",
       "      <td>0</td>\n",
       "    </tr>\n",
       "  </tbody>\n",
       "</table>\n",
       "</div>"
      ],
      "text/plain": [
       "                   x\n",
       "Mammal             1\n",
       "Bird               1\n",
       "Reptile            0\n",
       "Amphibian          0\n",
       "Fish               1\n",
       "Vascular Plant    -2\n",
       "Nonvascular Plant  0"
      ]
     },
     "execution_count": 103,
     "metadata": {},
     "output_type": "execute_result"
    }
   ],
   "source": [
    "contingency"
   ]
  },
  {
   "cell_type": "code",
   "execution_count": 104,
   "metadata": {},
   "outputs": [
    {
     "data": {
      "image/png": "[encoded data removed]",
      "text/plain": [
       "<Figure size 1000x600 with 1 Axes>"
      ]
     },
     "metadata": {},
     "output_type": "display_data"
    }
   ],
   "source": [
    "## Heatmap\n",
    "with sns.axes_style(\"white\"):\n",
    "    fig, ax = plt.subplots(figsize=(10,6))\n",
    "\n",
    "    my_colors = sns.color_palette(\"RdYlBu_r\", 4)\n",
    "    my_cmap = ListedColormap(my_colors)\n",
    "    bounds = np.linspace(-2,2,5)\n",
    "    my_norm = BoundaryNorm(bounds, ncolors=len(my_colors))\n",
    "\n",
    "    plt.title(\"Heatmap of Likelihood of Being Endangered \\nfor Each Category Compared to the Population\", \n",
    "              fontsize = 16, pad=20)\n",
    "\n",
    "    sns.heatmap(contingency.T,\n",
    "                cmap=my_cmap,\n",
    "                norm=my_norm,\n",
    "                linewidths=.5,\n",
    "                cbar=False,\n",
    "                square=True)\n",
    "    \n",
    "    plt.xticks(rotation = 90)\n",
    "    \n",
    "    txt=f\"\"\"Orange indicates the category is MORE likely to be endangered than the population.\\n\n",
    "Yellow indicates similar likelihood as the population.\\n\n",
    "Blue indicates the category is LESS likely to be endangered than the population.\"\"\"\n",
    "    plt.figtext(1, -0.2, txt, wrap=True, horizontalalignment='right', fontsize=12) \n",
    "\n",
    "    plt.tight_layout()\n",
    "\n",
    "plt.show()"
   ]
  },
  {
   "cell_type": "markdown",
   "metadata": {},
   "source": [
    "Analysis:\n",
    "- Mammals, birds, and fishes are more likely to be endangered than the rest of the population.\n",
    "- Vascular plants are less likely to be endangered than the rest of the population."
   ]
  },
  {
   "cell_type": "markdown",
   "metadata": {},
   "source": [
    "## 4. Conclusion and Recommendations"
   ]
  },
  {
   "cell_type": "markdown",
   "metadata": {},
   "source": [
    "In summary:\n",
    "1. Mammals, birds, and fishes are more likely to be endangered than the rest of the population. Consequently, the majority of species of concern, endangered or threatened species are birds, mammals and fishes, accounting for around 60% of the total. \n",
    "2. There is a statistically significant difference between plants (both nonvascular and vascular) and the rest of the species types (except reptile vs nonvascular plants). There is no statistical difference between the two plant types.\n",
    "2. Whooping Crane (bird type) is the rarest species that was spotted during the observation period, which is around 5 times less likely to be spotted than other endangered birds.\n",
    "3. Sedge (grass-like plant) is most commonly sighted in all four parks. Excluding plant types, the most frequently sighted species for each park are:\n",
    "  - Great Smoky Mountains National Park: Unita Chipmunk (Mammal)\n",
    "  - Yosemite National Park: American Beaver (Mammal)\n",
    "  - Yellowstone National Park: Eurasian Collared-Dove (Bird)\n",
    "  - Bryce National Park: Rock Dove (Bird)\n"
   ]
  },
  {
   "cell_type": "markdown",
   "metadata": {},
   "source": [
    "Recommendations are:\n",
    "1. Allocate more resources towards protecting mammanls, birds, and fishes.\n",
    "2. Notify to park visitors which species are most rarely sighted at each park, and make them aware that visitors should be careful when the species are sighted.\n",
    "3. Gather more data on each endangered species such as habitat so further analysis can be made on why they are endangered and how we can best protect them."
   ]
  },
  {
   "cell_type": "code",
   "execution_count": null,
   "metadata": {},
   "outputs": [],
   "source": []
  }
 ],
 "metadata": {
  "kernelspec": {
   "display_name": "Python 3 (ipykernel)",
   "language": "python",
   "name": "python3"
  },
  "language_info": {
   "codemirror_mode": {
    "name": "ipython",
    "version": 3
   },
   "file_extension": ".py",
   "mimetype": "text/x-python",
   "name": "python",
   "nbconvert_exporter": "python",
   "pygments_lexer": "ipython3",
   "version": "3.9.13"
  },
  "toc": {
   "base_numbering": 1,
   "nav_menu": {},
   "number_sections": false,
   "sideBar": true,
   "skip_h1_title": false,
   "title_cell": "Table of Contents",
   "title_sidebar": "Contents",
   "toc_cell": false,
   "toc_position": {
    "height": "calc(100% - 180px)",
    "left": "10px",
    "top": "150px",
    "width": "314.908px"
   },
   "toc_section_display": true,
   "toc_window_display": true
  },
  "varInspector": {
   "cols": {
    "lenName": 16,
    "lenType": 16,
    "lenVar": 40
   },
   "kernels_config": {
    "python": {
     "delete_cmd_postfix": "",
     "delete_cmd_prefix": "del ",
     "library": "var_list.py",
     "varRefreshCmd": "print(var_dic_list())"
    },
    "r": {
     "delete_cmd_postfix": ") ",
     "delete_cmd_prefix": "rm(",
     "library": "var_list.r",
     "varRefreshCmd": "cat(var_dic_list()) "
    }
   },
   "types_to_exclude": [
    "module",
    "function",
    "builtin_function_or_method",
    "instance",
    "_Feature"
   ],
   "window_display": false
  }
 },
 "nbformat": 4,
 "nbformat_minor": 4
}
